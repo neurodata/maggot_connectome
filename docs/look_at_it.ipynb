{
 "cells": [
  {
   "cell_type": "markdown",
   "metadata": {},
   "source": [
    "# Look at it (left vs. right induced subgraphs)"
   ]
  },
  {
   "cell_type": "markdown",
   "metadata": {
    "lines_to_next_cell": 0
   },
   "source": [
    "## Preliminaries"
   ]
  },
  {
   "cell_type": "code",
   "execution_count": null,
   "metadata": {},
   "outputs": [],
   "source": [
    "from pkg.utils import set_warnings\n",
    "\n",
    "import datetime\n",
    "import time\n",
    "\n",
    "import matplotlib.pyplot as plt\n",
    "import numpy as np\n",
    "import seaborn as sns\n",
    "from graspologic.embed import selectSVD\n",
    "from sklearn.preprocessing import normalize\n",
    "from graspologic.utils import pass_to_ranks\n",
    "from umap import AlignedUMAP\n",
    "from giskard.plot import graphplot\n",
    "from src.visualization import CLASS_COLOR_DICT\n",
    "\n",
    "from graspologic.align import OrthogonalProcrustes, SeedlessProcrustes\n",
    "from graspologic.embed import (\n",
    "    AdjacencySpectralEmbed,\n",
    "    OmnibusEmbed,\n",
    "    select_dimension,\n",
    ")\n",
    "from graspologic.match import GraphMatch\n",
    "from graspologic.plot import pairplot\n",
    "from graspologic.utils import (\n",
    "    augment_diagonal,\n",
    "    binarize,\n",
    "    multigraph_lcc_intersection,\n",
    "    pass_to_ranks,\n",
    ")\n",
    "from pkg.data import (\n",
    "    load_maggot_graph,\n",
    "    load_palette,\n",
    "    select_nice_nodes,\n",
    "    load_node_palette,\n",
    "    load_network_palette,\n",
    ")\n",
    "from pkg.io import savefig\n",
    "from pkg.plot import set_theme\n",
    "from giskard.utils import get_paired_inds\n",
    "\n",
    "from src.visualization import adjplot  # TODO fix graspologic version and replace here\n",
    "\n",
    "\n",
    "def stashfig(name, **kwargs):\n",
    "    foldername = \"look_at_it\"\n",
    "    savefig(name, foldername=foldername, **kwargs)"
   ]
  },
  {
   "cell_type": "markdown",
   "metadata": {
    "lines_to_next_cell": 0
   },
   "source": [
    "## Load and process data"
   ]
  },
  {
   "cell_type": "code",
   "execution_count": null,
   "metadata": {
    "lines_to_next_cell": 2
   },
   "outputs": [],
   "source": [
    "\n",
    "t0 = time.time()\n",
    "set_theme()\n",
    "\n",
    "network_palette, NETWORK_KEY = load_network_palette()\n",
    "node_palette, NODE_KEY = load_node_palette()\n",
    "\n",
    "mg = load_maggot_graph()\n",
    "mg = select_nice_nodes(mg)\n",
    "nodes = mg.nodes\n",
    "left_nodes = nodes[nodes[\"hemisphere\"] == \"L\"]\n",
    "left_inds = left_nodes[\"_inds\"]\n",
    "right_nodes = nodes[nodes[\"hemisphere\"] == \"R\"]\n",
    "right_inds = right_nodes[\"_inds\"]\n",
    "left_paired_inds, right_paired_inds = get_paired_inds(\n",
    "    nodes, pair_key=\"predicted_pair\", pair_id_key=\"predicted_pair_id\"\n",
    ")\n",
    "right_paired_inds_shifted = right_paired_inds - len(left_inds)\n",
    "adj = mg.sum.adj\n",
    "ll_adj = adj[np.ix_(left_inds, left_inds)]\n",
    "rr_adj = adj[np.ix_(right_inds, right_inds)]"
   ]
  },
  {
   "cell_type": "markdown",
   "metadata": {
    "lines_to_next_cell": 0
   },
   "source": [
    "## Plot the ipsilateral subgraph adjacency matrices"
   ]
  },
  {
   "cell_type": "code",
   "execution_count": null,
   "metadata": {},
   "outputs": [],
   "source": [
    "\n",
    "\n",
    "def calculate_weighted_degrees(adj):\n",
    "    return np.sum(adj, axis=0) + np.sum(adj, axis=1)\n",
    "\n",
    "\n",
    "def plot_adjs(left, right, title=\"\"):\n",
    "\n",
    "    fig, axs = plt.subplots(1, 2, figsize=(15, 7))\n",
    "    adjplot(\n",
    "        left,\n",
    "        item_order=-calculate_weighted_degrees(left),\n",
    "        plot_type=\"scattermap\",\n",
    "        sizes=(2, 2),\n",
    "        ax=axs[0],\n",
    "        title=r\"Left $\\to$ left\",\n",
    "        color=network_palette[\"Left\"],\n",
    "    )\n",
    "    adjplot(\n",
    "        right,\n",
    "        item_order=-calculate_weighted_degrees(right),\n",
    "        plot_type=\"scattermap\",\n",
    "        sizes=(2, 2),\n",
    "        ax=axs[1],\n",
    "        title=r\"Right $\\to$ right\",\n",
    "        color=network_palette[\"Right\"],\n",
    "    )\n",
    "    fig.suptitle(title, ha=\"center\", x=0.51)\n",
    "    return fig, axs\n",
    "\n",
    "\n",
    "plot_adjs(ll_adj, rr_adj, title=\"Ipsilateral adjacencies, ordered by degree\")\n",
    "stashfig(\"ipsilateral-adj-degree\")"
   ]
  },
  {
   "cell_type": "code",
   "execution_count": null,
   "metadata": {},
   "outputs": [],
   "source": [
    "\n",
    "\n",
    "def ase(adj, n_components=None):\n",
    "    U, S, Vt = selectSVD(adj, n_components=n_components, algorithm=\"full\")\n",
    "    S_sqrt = np.diag(np.sqrt(S))\n",
    "    X = U @ S_sqrt\n",
    "    Y = Vt.T @ S_sqrt\n",
    "    return X, Y\n",
    "\n",
    "\n",
    "def prescale_for_embed(adjs):\n",
    "    norms = [np.linalg.norm(adj, ord=\"fro\") for adj in adjs]\n",
    "    mean_norm = np.mean(norms)\n",
    "    adjs = [adjs[i] * mean_norm / norms[i] for i in range(len(adjs))]\n",
    "    return adjs"
   ]
  },
  {
   "cell_type": "markdown",
   "metadata": {
    "lines_to_next_cell": 0
   },
   "source": [
    "## Plot a graph layout for each hemisphere"
   ]
  },
  {
   "cell_type": "code",
   "execution_count": null,
   "metadata": {},
   "outputs": [],
   "source": [
    "n_components = 16  # 24 looked fine\n",
    "power = True\n",
    "normed = False\n",
    "if power:\n",
    "    ll_adj_for_umap = pass_to_ranks(ll_adj)\n",
    "    rr_adj_for_umap = pass_to_ranks(rr_adj)\n",
    "    if normed:\n",
    "        ll_adj_for_umap = normalize(ll_adj_for_umap, axis=1)\n",
    "        rr_adj_for_umap = normalize(rr_adj_for_umap, axis=1)\n",
    "    ll_adj_for_umap = ll_adj_for_umap @ ll_adj_for_umap\n",
    "    rr_adj_for_umap = rr_adj_for_umap @ rr_adj_for_umap\n",
    "else:\n",
    "    ll_adj_for_umap = pass_to_ranks(ll_adj)\n",
    "    rr_adj_for_umap = pass_to_ranks(rr_adj)\n",
    "\n",
    "X_ll, Y_ll = ase(ll_adj_for_umap, n_components=n_components)\n",
    "X_rr, Y_rr = ase(rr_adj_for_umap, n_components=n_components)\n",
    "\n",
    "Z_ll = np.concatenate((X_ll, Y_ll), axis=1)\n",
    "Z_rr = np.concatenate((X_rr, Y_rr), axis=1)\n",
    "# Z_ll, _ = ase(Z_ll, n_components=n_components)\n",
    "# Z_rr, _ = ase(Z_rr, n_components=n_components)\n",
    "\n",
    "relation_dict = dict(zip(left_paired_inds, right_paired_inds_shifted))\n",
    "\n",
    "aumap = AlignedUMAP(\n",
    "    random_state=88888,\n",
    "    n_neighbors=32,\n",
    "    min_dist=0.95,\n",
    "    metric=\"cosine\",\n",
    "    alignment_regularisation=1e-2,\n",
    ")\n",
    "umap_embeds = aumap.fit_transform([Z_ll, Z_rr], relations=[relation_dict])\n",
    "\n",
    "graphplot_kws = dict(sizes=(30, 60))\n",
    "fig, axs = plt.subplots(1, 2, figsize=(20, 10))\n",
    "graphplot(\n",
    "    network=ll_adj,\n",
    "    embedding=umap_embeds[0],\n",
    "    meta=left_nodes,\n",
    "    hue=\"merge_class\",\n",
    "    palette=CLASS_COLOR_DICT,\n",
    "    ax=axs[0],\n",
    "    **graphplot_kws,\n",
    ")\n",
    "graphplot(\n",
    "    network=rr_adj,\n",
    "    embedding=umap_embeds[1],\n",
    "    meta=right_nodes,\n",
    "    hue=\"merge_class\",\n",
    "    palette=CLASS_COLOR_DICT,\n",
    "    ax=axs[1],\n",
    "    **graphplot_kws,\n",
    ")\n",
    "stashfig(\"aligned-umap-layout\")"
   ]
  },
  {
   "cell_type": "markdown",
   "metadata": {
    "lines_to_next_cell": 0
   },
   "source": [
    "## Simple statistics for the left hemisphere induced subgraph"
   ]
  },
  {
   "cell_type": "code",
   "execution_count": null,
   "metadata": {
    "lines_to_next_cell": 0
   },
   "outputs": [],
   "source": [
    "ll_mg, rr_mg, _, _ = mg.bisect(paired=False)\n",
    "ll_mg.sum"
   ]
  },
  {
   "cell_type": "markdown",
   "metadata": {
    "lines_to_next_cell": 0
   },
   "source": [
    "## Simple statistics for the right hemisphere induced subgraph"
   ]
  },
  {
   "cell_type": "code",
   "execution_count": null,
   "metadata": {},
   "outputs": [],
   "source": [
    "rr_mg.sum"
   ]
  },
  {
   "cell_type": "code",
   "execution_count": null,
   "metadata": {},
   "outputs": [],
   "source": [
    "elapsed = time.time() - t0\n",
    "delta = datetime.timedelta(seconds=elapsed)\n",
    "print(\"----\")\n",
    "print(f\"Script took {delta}\")\n",
    "print(f\"Completed at {datetime.datetime.now()}\")\n",
    "print(\"----\")"
   ]
  }
 ],
 "metadata": {
  "jupytext": {
   "cell_metadata_filter": "-all",
   "main_language": "python",
   "notebook_metadata_filter": "-all"
  }
 },
 "nbformat": 4,
 "nbformat_minor": 4
}
