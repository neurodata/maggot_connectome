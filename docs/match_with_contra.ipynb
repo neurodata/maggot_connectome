{
 "cells": [
  {
   "cell_type": "markdown",
   "metadata": {
    "lines_to_next_cell": 0
   },
   "source": [
    "# Matching when including the contralateral connections"
   ]
  },
  {
   "cell_type": "markdown",
   "metadata": {
    "lines_to_next_cell": 0
   },
   "source": [
    "## Preliminaries"
   ]
  },
  {
   "cell_type": "code",
   "execution_count": 1,
   "metadata": {
    "tags": [
     "hide-input"
    ]
   },
   "outputs": [],
   "source": [
    "from pkg.utils import set_warnings\n",
    "\n",
    "set_warnings()\n",
    "\n",
    "\n",
    "import datetime\n",
    "import time\n",
    "\n",
    "import matplotlib.pyplot as plt\n",
    "import numpy as np\n",
    "import pandas as pd\n",
    "from scipy.optimize import linear_sum_assignment\n",
    "import seaborn as sns\n",
    "from numba import jit\n",
    "\n",
    "from giskard.plot import matched_stripplot\n",
    "from pkg.data import load_maggot_graph\n",
    "from pkg.io import savefig\n",
    "from pkg.plot import set_theme\n",
    "from pkg.utils import get_paired_inds, get_paired_subgraphs\n",
    "\n",
    "\n",
    "t0 = time.time()\n",
    "\n",
    "\n",
    "def stashfig(name, **kwargs):\n",
    "    foldername = \"matching_w_contra\"\n",
    "    savefig(name, foldername=foldername, **kwargs)\n",
    "\n",
    "\n",
    "set_theme()\n",
    "\n",
    "colors = sns.color_palette(\"Set1\")\n",
    "palette = dict(zip([\"Left\", \"Right\"], colors))"
   ]
  },
  {
   "cell_type": "markdown",
   "metadata": {
    "lines_to_next_cell": 0
   },
   "source": [
    "### Load the data"
   ]
  },
  {
   "cell_type": "code",
   "execution_count": 2,
   "metadata": {
    "tags": [
     "hide-input"
    ]
   },
   "outputs": [],
   "source": [
    "mg = load_maggot_graph()\n",
    "mg = mg[mg.nodes[\"paper_clustered_neurons\"]]"
   ]
  },
  {
   "cell_type": "markdown",
   "metadata": {
    "lines_to_next_cell": 0
   },
   "source": [
    "## Include the contralateral connections in graph matching"
   ]
  },
  {
   "cell_type": "markdown",
   "metadata": {
    "lines_to_next_cell": 0
   },
   "source": [
    "### Set up the experiment"
   ]
  },
  {
   "cell_type": "code",
   "execution_count": 3,
   "metadata": {
    "tags": [
     "hide-input"
    ]
   },
   "outputs": [],
   "source": [
    "np.random.seed(8888)\n",
    "maxiter = 30\n",
    "verbose = False\n",
    "ot = False\n",
    "maximize = True\n",
    "reg = np.nan  # TODO could try GOAT\n",
    "thr = np.nan\n",
    "tol = 1e-4\n",
    "n_init = 10\n",
    "\n",
    "lp_inds, rp_inds = get_paired_inds(mg.nodes)\n",
    "ll_adj, rr_adj, lr_adj, rl_adj = get_paired_subgraphs(mg.sum.adj, lp_inds, rp_inds)\n",
    "n = len(lp_inds)\n",
    "\n",
    "\n",
    "@jit(nopython=True)\n",
    "def compute_gradient(A, B, AB, BA, P):\n",
    "    return A @ P @ B.T + A.T @ P @ B + AB @ P.T @ BA.T + BA.T @ P.T @ AB\n",
    "\n",
    "\n",
    "@jit(nopython=True)\n",
    "def compute_step_size(A, B, AB, BA, P, Q):\n",
    "    R = P - Q\n",
    "    # TODO make these \"smart\" traces like in the scipy code, couldn't hurt\n",
    "    # though I don't know how much Numba cares\n",
    "    a_cross = np.trace(AB.T @ R @ BA @ R)\n",
    "    b_cross = np.trace(AB.T @ R @ BA @ Q) + np.trace(AB.T @ Q @ BA @ R)\n",
    "    a_intra = np.trace(A @ R @ B.T @ R.T)\n",
    "    b_intra = np.trace(A @ Q @ B.T @ R.T + A @ R @ B.T @ Q.T)\n",
    "\n",
    "    a = a_cross + a_intra\n",
    "    b = b_cross + b_intra\n",
    "\n",
    "    if a * obj_func_scalar > 0 and 0 <= -b / (2 * a) <= 1:\n",
    "        alpha = -b / (2 * a)\n",
    "    return alpha\n",
    "    # else:\n",
    "    #     alpha = np.argmin([0, (b + a) * obj_func_scalar])\n",
    "    # return alpha\n",
    "\n",
    "\n",
    "@jit(nopython=True)\n",
    "def compute_objective_function(A, B, AB, BA, P):\n",
    "    return np.trace(A @ P @ B.T @ P.T) + np.trace(AB.T @ P @ BA @ P)"
   ]
  },
  {
   "cell_type": "markdown",
   "metadata": {
    "lines_to_next_cell": 0
   },
   "source": [
    "### Run the graph matching experiment"
   ]
  },
  {
   "cell_type": "code",
   "execution_count": 4,
   "metadata": {
    "tags": [
     "hide-input"
    ]
   },
   "outputs": [
    {
     "data": {
      "text/html": [
       "<div>\n",
       "<style scoped>\n",
       "    .dataframe tbody tr th:only-of-type {\n",
       "        vertical-align: middle;\n",
       "    }\n",
       "\n",
       "    .dataframe tbody tr th {\n",
       "        vertical-align: top;\n",
       "    }\n",
       "\n",
       "    .dataframe thead th {\n",
       "        text-align: right;\n",
       "    }\n",
       "</style>\n",
       "<table border=\"1\" class=\"dataframe\">\n",
       "  <thead>\n",
       "    <tr style=\"text-align: right;\">\n",
       "      <th></th>\n",
       "      <th>init</th>\n",
       "      <th>iter</th>\n",
       "      <th>objfunc</th>\n",
       "      <th>match_ratio</th>\n",
       "      <th>between_term</th>\n",
       "      <th>time</th>\n",
       "    </tr>\n",
       "  </thead>\n",
       "  <tbody>\n",
       "    <tr>\n",
       "      <th>0</th>\n",
       "      <td>0</td>\n",
       "      <td>1</td>\n",
       "      <td>2.439440e+05</td>\n",
       "      <td>0.119651</td>\n",
       "      <td>True</td>\n",
       "      <td>3.882579</td>\n",
       "    </tr>\n",
       "    <tr>\n",
       "      <th>1</th>\n",
       "      <td>0</td>\n",
       "      <td>2</td>\n",
       "      <td>5.403489e+05</td>\n",
       "      <td>0.303057</td>\n",
       "      <td>True</td>\n",
       "      <td>4.597101</td>\n",
       "    </tr>\n",
       "    <tr>\n",
       "      <th>2</th>\n",
       "      <td>0</td>\n",
       "      <td>3</td>\n",
       "      <td>7.584659e+05</td>\n",
       "      <td>0.536245</td>\n",
       "      <td>True</td>\n",
       "      <td>5.387571</td>\n",
       "    </tr>\n",
       "    <tr>\n",
       "      <th>3</th>\n",
       "      <td>0</td>\n",
       "      <td>4</td>\n",
       "      <td>8.597453e+05</td>\n",
       "      <td>0.705677</td>\n",
       "      <td>True</td>\n",
       "      <td>6.125518</td>\n",
       "    </tr>\n",
       "    <tr>\n",
       "      <th>4</th>\n",
       "      <td>0</td>\n",
       "      <td>5</td>\n",
       "      <td>9.131593e+05</td>\n",
       "      <td>0.791266</td>\n",
       "      <td>True</td>\n",
       "      <td>6.823432</td>\n",
       "    </tr>\n",
       "    <tr>\n",
       "      <th>...</th>\n",
       "      <td>...</td>\n",
       "      <td>...</td>\n",
       "      <td>...</td>\n",
       "      <td>...</td>\n",
       "      <td>...</td>\n",
       "      <td>...</td>\n",
       "    </tr>\n",
       "    <tr>\n",
       "      <th>578</th>\n",
       "      <td>9</td>\n",
       "      <td>26</td>\n",
       "      <td>1.028481e+06</td>\n",
       "      <td>0.797380</td>\n",
       "      <td>False</td>\n",
       "      <td>21.769940</td>\n",
       "    </tr>\n",
       "    <tr>\n",
       "      <th>579</th>\n",
       "      <td>9</td>\n",
       "      <td>27</td>\n",
       "      <td>1.028621e+06</td>\n",
       "      <td>0.796507</td>\n",
       "      <td>False</td>\n",
       "      <td>22.507314</td>\n",
       "    </tr>\n",
       "    <tr>\n",
       "      <th>580</th>\n",
       "      <td>9</td>\n",
       "      <td>28</td>\n",
       "      <td>1.028734e+06</td>\n",
       "      <td>0.796507</td>\n",
       "      <td>False</td>\n",
       "      <td>23.282349</td>\n",
       "    </tr>\n",
       "    <tr>\n",
       "      <th>581</th>\n",
       "      <td>9</td>\n",
       "      <td>29</td>\n",
       "      <td>1.028840e+06</td>\n",
       "      <td>0.797380</td>\n",
       "      <td>False</td>\n",
       "      <td>24.036791</td>\n",
       "    </tr>\n",
       "    <tr>\n",
       "      <th>582</th>\n",
       "      <td>9</td>\n",
       "      <td>30</td>\n",
       "      <td>1.028932e+06</td>\n",
       "      <td>0.798253</td>\n",
       "      <td>False</td>\n",
       "      <td>24.783914</td>\n",
       "    </tr>\n",
       "  </tbody>\n",
       "</table>\n",
       "<p>583 rows × 6 columns</p>\n",
       "</div>"
      ],
      "text/plain": [
       "     init  iter       objfunc  match_ratio  between_term       time\n",
       "0       0     1  2.439440e+05     0.119651          True   3.882579\n",
       "1       0     2  5.403489e+05     0.303057          True   4.597101\n",
       "2       0     3  7.584659e+05     0.536245          True   5.387571\n",
       "3       0     4  8.597453e+05     0.705677          True   6.125518\n",
       "4       0     5  9.131593e+05     0.791266          True   6.823432\n",
       "..    ...   ...           ...          ...           ...        ...\n",
       "578     9    26  1.028481e+06     0.797380         False  21.769940\n",
       "579     9    27  1.028621e+06     0.796507         False  22.507314\n",
       "580     9    28  1.028734e+06     0.796507         False  23.282349\n",
       "581     9    29  1.028840e+06     0.797380         False  24.036791\n",
       "582     9    30  1.028932e+06     0.798253         False  24.783914\n",
       "\n",
       "[583 rows x 6 columns]"
      ]
     },
     "execution_count": 4,
     "metadata": {},
     "output_type": "execute_result"
    }
   ],
   "source": [
    "rows = []\n",
    "for init in range(n_init):\n",
    "    if verbose > 0:\n",
    "        print(f\"Initialization: {init}\")\n",
    "    shuffle_inds = np.random.permutation(n)\n",
    "    correct_perm = np.argsort(shuffle_inds)\n",
    "    A_base = ll_adj.copy()\n",
    "    B_base = rr_adj.copy()\n",
    "    AB_base = lr_adj.copy()\n",
    "    BA_base = rl_adj.copy()\n",
    "\n",
    "    for between_term in [True, False]:\n",
    "        init_t0 = time.time()\n",
    "        if verbose > 0:\n",
    "            print(f\"Between term: {between_term}\")\n",
    "        A = A_base\n",
    "        B = B_base[shuffle_inds][:, shuffle_inds]\n",
    "        AB = AB_for_obj = AB_base[:, shuffle_inds]\n",
    "        BA = BA_for_obj = BA_base[shuffle_inds]\n",
    "\n",
    "        if not between_term:\n",
    "            AB = np.zeros((n, n))\n",
    "            BA = np.zeros((n, n))\n",
    "\n",
    "        P = np.full((n, n), 1 / n)\n",
    "\n",
    "        obj_func_scalar = 1\n",
    "        if maximize:\n",
    "            obj_func_scalar = -1\n",
    "\n",
    "        for n_iter in range(1, maxiter + 1):\n",
    "\n",
    "            # [1] Algorithm 1 Line 3 - compute the gradient of f(P)\n",
    "            currtime = time.time()\n",
    "            grad_fp = compute_gradient(A, B, AB, BA, P)\n",
    "            if verbose > 1:\n",
    "                print(f\"{time.time() - currtime:.3f} seconds elapsed for grad_fp.\")\n",
    "\n",
    "            # [1] Algorithm 1 Line 4 - get direction Q by solving Eq. 8\n",
    "            currtime = time.time()\n",
    "            if ot:\n",
    "                # TODO not implemented here yet\n",
    "                Q = alap(grad_fp, n, maximize, reg, thr)\n",
    "            else:\n",
    "                _, cols = linear_sum_assignment(grad_fp, maximize=maximize)\n",
    "                Q = np.eye(n)[cols]\n",
    "            if verbose > 1:\n",
    "                print(\n",
    "                    f\"{time.time() - currtime:.3f} seconds elapsed for LSAP/Sinkhorn step.\"\n",
    "                )\n",
    "\n",
    "            # [1] Algorithm 1 Line 5 - compute the step size\n",
    "            currtime = time.time()\n",
    "\n",
    "            alpha = compute_step_size(A, B, AB, BA, P, Q)\n",
    "\n",
    "            if verbose > 1:\n",
    "                print(\n",
    "                    f\"{time.time() - currtime:.3f} seconds elapsed for quadradic terms.\"\n",
    "                )\n",
    "\n",
    "            # [1] Algorithm 1 Line 6 - Update P\n",
    "            P_i1 = alpha * P + (1 - alpha) * Q\n",
    "            if np.linalg.norm(P - P_i1) / np.sqrt(n) < tol:\n",
    "                P = P_i1\n",
    "                break\n",
    "            P = P_i1\n",
    "            _, iteration_perm = linear_sum_assignment(-P)\n",
    "            match_ratio = (correct_perm == iteration_perm).mean()\n",
    "\n",
    "            objfunc = compute_objective_function(A, B, AB_for_obj, BA_for_obj, P)\n",
    "\n",
    "            if verbose > 0:\n",
    "                print(\n",
    "                    f\"Iteration: {n_iter},  Objective function: {objfunc:.2f},  Match ratio: {match_ratio:.2f}\"\n",
    "                )\n",
    "\n",
    "            row = {\n",
    "                \"init\": init,\n",
    "                \"iter\": n_iter,\n",
    "                \"objfunc\": objfunc,\n",
    "                \"match_ratio\": match_ratio,\n",
    "                \"between_term\": between_term,\n",
    "                \"time\": time.time() - init_t0,\n",
    "            }\n",
    "            rows.append(row)\n",
    "\n",
    "        if verbose > 0:\n",
    "            print(\"\\n\")\n",
    "\n",
    "    _, perm = linear_sum_assignment(-P)\n",
    "    if verbose > 0:\n",
    "        print(\"\\n\")\n",
    "\n",
    "results = pd.DataFrame(rows)\n",
    "results"
   ]
  },
  {
   "cell_type": "markdown",
   "metadata": {
    "lines_to_next_cell": 0
   },
   "source": [
    "### Plot the results"
   ]
  },
  {
   "cell_type": "code",
   "execution_count": 5,
   "metadata": {
    "tags": [
     "hide-input"
    ]
   },
   "outputs": [
    {
     "data": {
      "image/png": "[encoded data removed]",
      "text/plain": [
       "<Figure size 576x432 with 1 Axes>"
      ]
     },
     "metadata": {
      "needs_background": "light"
     },
     "output_type": "display_data"
    },
    {
     "data": {
      "image/png": "[encoded data removed]",
      "text/plain": [
       "<Figure size 576x432 with 1 Axes>"
      ]
     },
     "metadata": {
      "needs_background": "light"
     },
     "output_type": "display_data"
    }
   ],
   "source": [
    "last_results_idx = results.groupby([\"between_term\", \"init\"])[\"iter\"].idxmax()\n",
    "last_results = results.loc[last_results_idx].copy()\n",
    "\n",
    "fig, ax = plt.subplots(1, 1, figsize=(8, 6))\n",
    "matched_stripplot(\n",
    "    last_results,\n",
    "    jitter=0.2,\n",
    "    x=\"between_term\",\n",
    "    y=\"objfunc\",\n",
    "    match=\"init\",\n",
    "    hue=\"between_term\",\n",
    ")\n",
    "stashfig(\"between-objfunc\")\n",
    "\n",
    "\n",
    "fig, ax = plt.subplots(1, 1, figsize=(8, 6))\n",
    "matched_stripplot(\n",
    "    last_results,\n",
    "    jitter=0.2,\n",
    "    x=\"between_term\",\n",
    "    y=\"match_ratio\",\n",
    "    match=\"init\",\n",
    "    hue=\"between_term\",\n",
    ")\n",
    "stashfig(\"between-match-ratio\")"
   ]
  },
  {
   "cell_type": "markdown",
   "metadata": {
    "lines_to_next_cell": 0
   },
   "source": [
    "## End"
   ]
  },
  {
   "cell_type": "code",
   "execution_count": 6,
   "metadata": {
    "tags": [
     "hide-input"
    ]
   },
   "outputs": [
    {
     "name": "stdout",
     "output_type": "stream",
     "text": [
      "----\n",
      "Script took 0:09:32.367455\n",
      "Completed at 2021-04-02 09:48:19.888251\n",
      "----\n"
     ]
    }
   ],
   "source": [
    "elapsed = time.time() - t0\n",
    "delta = datetime.timedelta(seconds=elapsed)\n",
    "print(\"----\")\n",
    "print(f\"Script took {delta}\")\n",
    "print(f\"Completed at {datetime.datetime.now()}\")\n",
    "print(\"----\")"
   ]
  }
 ],
 "metadata": {
  "jupytext": {
   "cell_metadata_filter": "-all",
   "main_language": "python",
   "notebook_metadata_filter": "-all"
  },
  "language_info": {
   "codemirror_mode": {
    "name": "ipython",
    "version": 3
   },
   "file_extension": ".py",
   "mimetype": "text/x-python",
   "name": "python",
   "nbconvert_exporter": "python",
   "pygments_lexer": "ipython3",
   "version": "3.8.5"
  }
 },
 "nbformat": 4,
 "nbformat_minor": 4
}
