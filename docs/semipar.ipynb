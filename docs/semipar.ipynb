{
 "cells": [
  {
   "cell_type": "markdown",
   "metadata": {
    "lines_to_next_cell": 0
   },
   "source": [
    "# Testing bilateral symmetry - semiparametric test"
   ]
  },
  {
   "cell_type": "markdown",
   "metadata": {
    "lines_to_next_cell": 0
   },
   "source": [
    "## Preliminaries"
   ]
  },
  {
   "cell_type": "code",
   "execution_count": 1,
   "metadata": {
    "tags": [
     "hide-input"
    ]
   },
   "outputs": [
    {
     "name": "stderr",
     "output_type": "stream",
     "text": [
      "/Users/bpedigo/miniconda3/envs/maggot-revamp/lib/python3.8/site-packages/umap/__init__.py:9: UserWarning: Tensorflow not installed; ParametricUMAP will be unavailable\n",
      "  warn(\"Tensorflow not installed; ParametricUMAP will be unavailable\")\n"
     ]
    }
   ],
   "source": [
    "import datetime\n",
    "import pprint\n",
    "import time\n",
    "\n",
    "import matplotlib.pyplot as plt\n",
    "import numpy as np\n",
    "import pandas as pd\n",
    "import seaborn as sns\n",
    "\n",
    "from giskard.plot import scatterplot\n",
    "from graspologic.inference import latent_position_test\n",
    "from graspologic.utils import binarize, multigraph_lcc_intersection, symmetrize\n",
    "from pkg.data import load_adjacency, load_node_meta\n",
    "from pkg.io import get_out_dir, savefig\n",
    "from pkg.plot import set_theme\n",
    "from pkg.utils import get_paired_inds, get_paired_subgraphs, set_warnings\n",
    "\n",
    "# from src.visualization import adjplot  # TODO fix graspologic version and replace here\n",
    "\n",
    "set_warnings()\n",
    "\n",
    "\n",
    "t0 = time.time()\n",
    "\n",
    "RECOMPUTE = False\n",
    "\n",
    "foldername = \"semipar\"\n",
    "\n",
    "\n",
    "def stashfig(name, **kwargs):\n",
    "    savefig(name, foldername=foldername, **kwargs)\n",
    "\n",
    "\n",
    "out_dir = get_out_dir(foldername=foldername)\n",
    "\n",
    "colors = sns.color_palette(\"Set1\")\n",
    "palette = dict(zip([\"Left\", \"Right\"], colors))\n",
    "set_theme()"
   ]
  },
  {
   "cell_type": "markdown",
   "metadata": {
    "lines_to_next_cell": 0
   },
   "source": [
    "## Load the data"
   ]
  },
  {
   "cell_type": "markdown",
   "metadata": {
    "lines_to_next_cell": 0
   },
   "source": [
    "### Load node metadata and select the subgraphs of interest"
   ]
  },
  {
   "cell_type": "code",
   "execution_count": 2,
   "metadata": {
    "lines_to_next_cell": 2,
    "tags": [
     "hide-input"
    ]
   },
   "outputs": [
    {
     "name": "stdout",
     "output_type": "stream",
     "text": [
      "1210 in intersection of largest connected components.\n",
      "Original number of valid pairs: 1211\n",
      "Number of pairs after taking LCC intersection: 1210\n"
     ]
    }
   ],
   "source": [
    "meta = load_node_meta()\n",
    "meta = meta[meta[\"paper_clustered_neurons\"]]\n",
    "\n",
    "adj = load_adjacency(graph_type=\"G\", nodelist=meta.index)\n",
    "\n",
    "lp_inds, rp_inds = get_paired_inds(meta)\n",
    "left_meta = meta.iloc[lp_inds]\n",
    "right_meta = meta.iloc[rp_inds]\n",
    "\n",
    "ll_adj, rr_adj, lr_adj, rl_adj = get_paired_subgraphs(adj, lp_inds, rp_inds)\n",
    "\n",
    "# TODO not sure what we wanna do about LCCs here\n",
    "adjs, lcc_inds = multigraph_lcc_intersection([ll_adj, rr_adj], return_inds=True)\n",
    "ll_adj = adjs[0]\n",
    "rr_adj = adjs[1]\n",
    "print(f\"{len(lcc_inds)} in intersection of largest connected components.\")\n",
    "\n",
    "print(f\"Original number of valid pairs: {len(lp_inds)}\")\n",
    "\n",
    "left_meta = left_meta.iloc[lcc_inds]\n",
    "right_meta = right_meta.iloc[lcc_inds]\n",
    "meta = pd.concat((left_meta, right_meta))\n",
    "n_pairs = len(ll_adj)\n",
    "\n",
    "print(f\"Number of pairs after taking LCC intersection: {n_pairs}\")"
   ]
  },
  {
   "cell_type": "markdown",
   "metadata": {},
   "source": [
    "## Run a latent position test"
   ]
  },
  {
   "cell_type": "code",
   "execution_count": 3,
   "metadata": {
    "tags": [
     "hide-input"
    ]
   },
   "outputs": [],
   "source": [
    "if RECOMPUTE:\n",
    "    preprocess = [symmetrize, binarize]\n",
    "    graphs = [ll_adj, rr_adj]\n",
    "\n",
    "    for func in preprocess:\n",
    "        for i, graph in enumerate(graphs):\n",
    "            graphs[i] = func(graph)\n",
    "\n",
    "    ll_adj = graphs[0]\n",
    "    rr_adj = graphs[1]\n",
    "    n_bootstraps = 200\n",
    "    test_case = \"rotation\"\n",
    "    embedding = \"ase\"\n",
    "    verbose = 1\n",
    "    workers = -2\n",
    "    rows = []\n",
    "    for embedding in [\"ase\", \"omnibus\"]:\n",
    "        for n_components in np.arange(6, 15):\n",
    "            currtime = time.time()\n",
    "            params = dict(\n",
    "                embedding=embedding,\n",
    "                n_components=n_components,\n",
    "                test_case=test_case,\n",
    "                n_bootstraps=n_bootstraps,\n",
    "                workers=workers,\n",
    "            )\n",
    "            pvalue, tstat, misc = latent_position_test(ll_adj, rr_adj, **params)\n",
    "            elapsed = time.time() - currtime\n",
    "\n",
    "            row = params.copy()\n",
    "            row[\"pvalue\"] = pvalue\n",
    "            row[\"tstat\"] = tstat\n",
    "            rows.append(row)\n",
    "            results = pd.DataFrame(rows)\n",
    "            results.to_csv(out_dir / \"semipar_results\")\n",
    "            if verbose > 0:\n",
    "                pprint.pprint(row)\n",
    "                print()"
   ]
  },
  {
   "cell_type": "code",
   "execution_count": 4,
   "metadata": {
    "tags": [
     "hide-input"
    ]
   },
   "outputs": [],
   "source": [
    "results = pd.read_csv(out_dir / \"semipar_results\", index_col=0)"
   ]
  },
  {
   "cell_type": "markdown",
   "metadata": {},
   "source": [
    "## Plot p-values\n",
    "\n",
    "ax = scatterplot(\n",
    "    data=results,\n",
    "    x=\"n_components\",\n",
    "    y=\"pvalue\",\n",
    "    hue=\"embedding\",\n",
    "    shift=\"embedding\",\n",
    "    shade=True,\n",
    ")\n",
    "ax.set_yscale(\"log\")\n",
    "styles = [\"--\", \":\"]\n",
    "line_locs = [0.05, 0.005]\n",
    "line_kws = dict(color=\"black\", alpha=0.7, linewidth=1.5, zorder=-1)\n",
    "for loc, style in zip(line_locs, styles):\n",
    "    ax.axhline(loc, linestyle=style, **line_kws)\n",
    "    ax.text(ax.get_xlim()[-1] + 0.1, loc, loc, ha=\"left\", va=\"center\")\n",
    "stashfig(\"semipar-pvalues-by-dimension\")\n",
    "\n",
    "#%%\n",
    "test_case = \"rotation\"\n",
    "embedding = \"omnibus\"\n",
    "n_components = 8\n",
    "n_bootstraps = 100\n",
    "n_repeats = 5\n",
    "rows = []\n",
    "for n_shuffle in [4, 8, 16]:\n",
    "\n",
    "    for repeat in range(n_repeats):\n",
    "        inds = np.arange(len(rr_adj))\n",
    "        choice_inds = np.random.choice(len(rr_adj), size=n_shuffle, replace=False)\n",
    "        shuffle_inds = choice_inds.copy()\n",
    "        np.random.shuffle(shuffle_inds)\n",
    "        inds[choice_inds] = inds[shuffle_inds]\n",
    "        rr_adj_shuffle = rr_adj[np.ix_(inds, inds)]\n",
    "        currtime = time.time()\n",
    "        pvalue, tstat, misc = latent_position_test(\n",
    "            ll_adj,\n",
    "            rr_adj_shuffle,\n",
    "            embedding=embedding,\n",
    "            n_components=n_components,\n",
    "            test_case=test_case,\n",
    "            n_bootstraps=n_bootstraps,\n",
    "        )\n",
    "        row = {\n",
    "            \"pvalue\": pvalue,\n",
    "            \"tstat\": tstat,\n",
    "            \"n_shuffle\": n_shuffle,\n",
    "            \"n_components\": n_components,\n",
    "            \"n_bootstraps\": n_bootstraps,\n",
    "            \"embedding\": embedding,\n",
    "            \"test_case\": test_case,\n",
    "            \"repeat\": repeat,\n",
    "        }\n",
    "        rows.append(row)\n",
    "        print(f\"{time.time() - currtime:.3f} seconds elapsed.\")\n",
    "        print(f\"n_shuffle: {n_shuffle}\")\n",
    "        print(f\"test case: {test_case}\")\n",
    "        print(f\"embedding: {embedding}\")\n",
    "        print(f\"n_components: {n_components}\")\n",
    "        print(f\"p-value: {pvalue}\")\n",
    "        print(f\"tstat: {tstat}\")\n",
    "        print()\n",
    "\n",
    "#%%\n",
    "results = pd.DataFrame(rows)\n",
    "fig, ax = plt.subplots(1, 1, figsize=(8, 6))\n",
    "sns.scatterplot(data=results, x=\"n_shuffle\", y=\"pvalue\", ax=ax)\n",
    "stashfig(\"shuffle-p-values\")"
   ]
  },
  {
   "cell_type": "markdown",
   "metadata": {
    "lines_to_next_cell": 0
   },
   "source": [
    "## End"
   ]
  },
  {
   "cell_type": "code",
   "execution_count": 5,
   "metadata": {
    "tags": [
     "hide-input"
    ]
   },
   "outputs": [
    {
     "name": "stdout",
     "output_type": "stream",
     "text": [
      "----\n",
      "Script took 0:00:01.268198\n",
      "Completed at 2021-04-26 21:54:11.696112\n",
      "----\n"
     ]
    }
   ],
   "source": [
    "elapsed = time.time() - t0\n",
    "delta = datetime.timedelta(seconds=elapsed)\n",
    "print(\"----\")\n",
    "print(f\"Script took {delta}\")\n",
    "print(f\"Completed at {datetime.datetime.now()}\")\n",
    "print(\"----\")"
   ]
  }
 ],
 "metadata": {
  "jupytext": {
   "cell_metadata_filter": "-all",
   "main_language": "python",
   "notebook_metadata_filter": "-all"
  },
  "language_info": {
   "codemirror_mode": {
    "name": "ipython",
    "version": 3
   },
   "file_extension": ".py",
   "mimetype": "text/x-python",
   "name": "python",
   "nbconvert_exporter": "python",
   "pygments_lexer": "ipython3",
   "version": "3.8.5"
  }
 },
 "nbformat": 4,
 "nbformat_minor": 4
}
