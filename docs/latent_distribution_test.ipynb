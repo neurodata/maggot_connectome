{
 "cells": [
  {
   "cell_type": "markdown",
   "metadata": {
    "lines_to_next_cell": 0
   },
   "source": [
    "# Test for bilateral symmetry - latent distribution test"
   ]
  },
  {
   "cell_type": "markdown",
   "metadata": {
    "lines_to_next_cell": 0
   },
   "source": [
    "## Preliminaries"
   ]
  },
  {
   "cell_type": "code",
   "execution_count": 1,
   "metadata": {
    "tags": [
     "hide-input"
    ]
   },
   "outputs": [],
   "source": [
    "from pkg.utils import set_warnings\n",
    "\n",
    "import datetime\n",
    "import pprint\n",
    "import time\n",
    "\n",
    "import matplotlib.pyplot as plt\n",
    "import numpy as np\n",
    "import pandas as pd\n",
    "import seaborn as sns\n",
    "from giskard.utils import get_paired_inds\n",
    "from graspologic.align import OrthogonalProcrustes, SeedlessProcrustes\n",
    "from graspologic.embed import AdjacencySpectralEmbed, select_dimension\n",
    "from graspologic.utils import (\n",
    "    augment_diagonal,\n",
    "    binarize,\n",
    "    pass_to_ranks,\n",
    ")\n",
    "from hyppo.ksample import KSample\n",
    "from pkg.data import (\n",
    "    load_maggot_graph,\n",
    "    load_network_palette,\n",
    "    load_node_palette,\n",
    "    select_nice_nodes,\n",
    ")\n",
    "from pkg.io import savefig\n",
    "from pkg.plot import set_theme\n",
    "\n",
    "\n",
    "def stashfig(name, **kwargs):\n",
    "    foldername = \"latent_distribution_test\"\n",
    "    savefig(name, foldername=foldername, **kwargs)"
   ]
  },
  {
   "cell_type": "markdown",
   "metadata": {
    "lines_to_next_cell": 0
   },
   "source": [
    "## Load and process data"
   ]
  },
  {
   "cell_type": "code",
   "execution_count": 2,
   "metadata": {
    "tags": [
     "hide-input"
    ]
   },
   "outputs": [
    {
     "name": "stdout",
     "output_type": "stream",
     "text": [
      "Removed 13 nodes when taking the largest connected component.\n",
      "Removed 38 nodes when removing pendants.\n",
      "Removed 0 nodes when taking the largest connected component.\n"
     ]
    }
   ],
   "source": [
    "\n",
    "t0 = time.time()\n",
    "set_theme()\n",
    "\n",
    "network_palette, NETWORK_KEY = load_network_palette()\n",
    "node_palette, NODE_KEY = load_node_palette()\n",
    "\n",
    "mg = load_maggot_graph()\n",
    "mg = select_nice_nodes(mg)\n",
    "nodes = mg.nodes\n",
    "left_nodes = nodes[nodes[\"hemisphere\"] == \"L\"]\n",
    "left_inds = left_nodes[\"_inds\"]\n",
    "right_nodes = nodes[nodes[\"hemisphere\"] == \"R\"]\n",
    "right_inds = right_nodes[\"_inds\"]\n",
    "left_paired_inds, right_paired_inds = get_paired_inds(\n",
    "    nodes, pair_key=\"predicted_pair\", pair_id_key=\"predicted_pair_id\"\n",
    ")\n",
    "right_paired_inds_shifted = right_paired_inds - len(left_inds)\n",
    "adj = mg.sum.adj\n",
    "ll_adj = adj[np.ix_(left_inds, left_inds)]\n",
    "rr_adj = adj[np.ix_(right_inds, right_inds)]"
   ]
  },
  {
   "cell_type": "markdown",
   "metadata": {
    "lines_to_next_cell": 0
   },
   "source": [
    "## Embed the network using adjacency spectral embedding"
   ]
  },
  {
   "cell_type": "code",
   "execution_count": 3,
   "metadata": {
    "tags": [
     "hide-input"
    ]
   },
   "outputs": [
    {
     "name": "stderr",
     "output_type": "stream",
     "text": [
      "/Users/bpedigo/JHU_code/maggot/graspologic/graspologic/embed/ase.py:166: UserWarning:\n",
      "\n",
      "Input graph is not fully connected. Results may notbe optimal. You can compute the largest connected component byusing ``graspologic.utils.largest_connected_component``.\n",
      "\n"
     ]
    }
   ],
   "source": [
    "def preprocess_for_embed(ll_adj, rr_adj, preprocess):\n",
    "    if \"binarize\" in preprocess:\n",
    "        ll_adj_to_embed = binarize(ll_adj)\n",
    "        rr_adj_to_embed = binarize(rr_adj)\n",
    "\n",
    "    if \"rescale\" in preprocess:\n",
    "        ll_norm = np.linalg.norm(ll_adj_to_embed, ord=\"fro\")\n",
    "        rr_norm = np.linalg.norm(rr_adj_to_embed, ord=\"fro\")\n",
    "        mean_norm = (ll_norm + rr_norm) / 2\n",
    "        ll_adj_to_embed *= mean_norm / ll_norm\n",
    "        rr_adj_to_embed *= mean_norm / rr_norm\n",
    "    return ll_adj_to_embed, rr_adj_to_embed\n",
    "\n",
    "\n",
    "def embed(adj, n_components=40, ptr=False):\n",
    "    if ptr:\n",
    "        adj = pass_to_ranks(adj)\n",
    "    elbow_inds, _ = select_dimension(augment_diagonal(adj), n_elbows=5)\n",
    "    elbow_inds = np.array(elbow_inds)\n",
    "    ase = AdjacencySpectralEmbed(n_components=n_components)\n",
    "    out_latent, in_latent = ase.fit_transform(adj)\n",
    "    return out_latent, in_latent, ase.singular_values_, elbow_inds\n",
    "\n",
    "\n",
    "def split_adj(adj):\n",
    "    ll_adj = adj[np.ix_(left_inds, left_inds)]\n",
    "    rr_adj = adj[np.ix_(right_inds, right_inds)]\n",
    "    lr_adj = adj[np.ix_(left_inds, right_inds)]\n",
    "    rl_adj = adj[np.ix_(right_inds, left_inds)]\n",
    "    return ll_adj, rr_adj, lr_adj, rl_adj\n",
    "\n",
    "\n",
    "align_n_components = 24\n",
    "preprocess = [\"binarize\", \"rescale\"]\n",
    "\n",
    "raw_adj = mg.sum.adj.copy()\n",
    "\n",
    "ll_adj, rr_adj, _, _ = split_adj(raw_adj)\n",
    "\n",
    "ll_adj_to_embed, rr_adj_to_embed = preprocess_for_embed(ll_adj, rr_adj, preprocess)\n",
    "\n",
    "X_ll, Y_ll, left_sing_vals, left_elbow_inds = embed(\n",
    "    ll_adj_to_embed, n_components=align_n_components\n",
    ")\n",
    "X_rr, Y_rr, right_sing_vals, right_elbow_inds = embed(\n",
    "    rr_adj_to_embed, n_components=align_n_components\n",
    ")"
   ]
  },
  {
   "cell_type": "code",
   "execution_count": 4,
   "metadata": {
    "tags": [
     "hide-input"
    ]
   },
   "outputs": [],
   "source": [
    "\n",
    "\n",
    "def joint_procrustes(\n",
    "    data1,\n",
    "    data2,\n",
    "    method=\"orthogonal\",\n",
    "    paired_inds1=None,\n",
    "    paired_inds2=None,\n",
    "    swap=False,\n",
    "    verbose=False,\n",
    "):\n",
    "    n = len(data1[0])\n",
    "    if method == \"orthogonal\":\n",
    "        procruster = OrthogonalProcrustes()\n",
    "    elif method == \"seedless\":\n",
    "        procruster = SeedlessProcrustes(init=\"sign_flips\")\n",
    "    elif method == \"seedless-oracle\":\n",
    "        X1_paired = data1[0][paired_inds1, :]\n",
    "        X2_paired = data2[0][paired_inds2, :]\n",
    "        if swap:\n",
    "            Y1_paired = data1[1][paired_inds2, :]\n",
    "            Y2_paired = data2[1][paired_inds1, :]\n",
    "        else:\n",
    "            Y1_paired = data1[1][paired_inds1, :]\n",
    "            Y2_paired = data2[1][paired_inds2, :]\n",
    "        data1_paired = np.concatenate((X1_paired, Y1_paired), axis=0)\n",
    "        data2_paired = np.concatenate((X2_paired, Y2_paired), axis=0)\n",
    "        op = OrthogonalProcrustes()\n",
    "        op.fit(data1_paired, data2_paired)\n",
    "        procruster = SeedlessProcrustes(\n",
    "            init=\"custom\",\n",
    "            initial_Q=op.Q_,\n",
    "            optimal_transport_eps=1.0,\n",
    "            optimal_transport_num_reps=100,\n",
    "            iterative_num_reps=10,\n",
    "        )\n",
    "    data1 = np.concatenate(data1, axis=0)\n",
    "    data2 = np.concatenate(data2, axis=0)\n",
    "    currtime = time.time()\n",
    "    data1_mapped = procruster.fit_transform(data1, data2)\n",
    "    if verbose > 1:\n",
    "        print(f\"{time.time() - currtime:.3f} seconds elapsed for SeedlessProcrustes.\")\n",
    "    data1 = (data1_mapped[:n], data1_mapped[n:])\n",
    "    return data1\n",
    "\n",
    "\n",
    "X_ll, Y_ll = joint_procrustes(\n",
    "    (X_ll, Y_ll),\n",
    "    (X_rr, Y_rr),\n",
    "    method=\"seedless-oracle\",\n",
    "    paired_inds1=left_paired_inds,\n",
    "    paired_inds2=right_paired_inds_shifted,\n",
    ")"
   ]
  },
  {
   "cell_type": "markdown",
   "metadata": {
    "lines_to_next_cell": 0
   },
   "source": [
    "## Hypothesis testing on the embeddings\n",
    "To test whether the distribution of latent positions is different, we use the approach\n",
    "of the \"nonpar\" test, also called the latent distribution test. Here, for the backend\n",
    "2-sample test, we use distance correlation (Dcorr)."
   ]
  },
  {
   "cell_type": "code",
   "execution_count": 5,
   "metadata": {
    "lines_to_next_cell": 2,
    "tags": [
     "hide-input"
    ]
   },
   "outputs": [],
   "source": [
    "test = \"dcorr\"\n",
    "workers = -1\n",
    "auto = True\n",
    "if auto:\n",
    "    n_bootstraps = None\n",
    "else:\n",
    "    n_bootstraps = 500\n",
    "\n",
    "\n",
    "def run_test(\n",
    "    X1,\n",
    "    X2,\n",
    "    rows=None,\n",
    "    info={},\n",
    "    auto=auto,\n",
    "    n_bootstraps=n_bootstraps,\n",
    "    workers=workers,\n",
    "    test=test,\n",
    "    print_out=False,\n",
    "):\n",
    "    currtime = time.time()\n",
    "    test_obj = KSample(test)\n",
    "    tstat, pvalue = test_obj.test(\n",
    "        X1,\n",
    "        X2,\n",
    "        reps=n_bootstraps,\n",
    "        workers=workers,\n",
    "        auto=auto,\n",
    "    )\n",
    "    elapsed = time.time() - currtime\n",
    "    row = {\n",
    "        \"pvalue\": pvalue,\n",
    "        \"tstat\": tstat,\n",
    "        \"elapsed\": elapsed,\n",
    "    }\n",
    "    row.update(info)\n",
    "    if print_out:\n",
    "        pprint.pprint(row)\n",
    "    if rows is not None:\n",
    "        rows.append(row)\n",
    "    else:\n",
    "        return row"
   ]
  },
  {
   "cell_type": "markdown",
   "metadata": {
    "lines_to_next_cell": 0
   },
   "source": [
    "### Run the two-sample test for varying embedding dimension"
   ]
  },
  {
   "cell_type": "code",
   "execution_count": 6,
   "metadata": {
    "tags": [
     "hide-input"
    ]
   },
   "outputs": [],
   "source": [
    "\n",
    "\n",
    "rows = []\n",
    "for n_components in np.arange(1, align_n_components + 1):\n",
    "    left_composite_latent = np.concatenate(\n",
    "        (X_ll[:, :n_components], Y_ll[:, :n_components]), axis=1\n",
    "    )\n",
    "    right_composite_latent = np.concatenate(\n",
    "        (X_rr[:, :n_components], Y_rr[:, :n_components]), axis=1\n",
    "    )\n",
    "\n",
    "    run_test(\n",
    "        left_composite_latent,\n",
    "        right_composite_latent,\n",
    "        rows,\n",
    "        info={\"alignment\": \"SOP\", \"n_components\": n_components},\n",
    "    )\n",
    "\n",
    "results = pd.DataFrame(rows)"
   ]
  },
  {
   "cell_type": "markdown",
   "metadata": {
    "lines_to_next_cell": 0
   },
   "source": [
    "### Plot the 2-sample test p-values by varying dimension\n",
    "Note: these are on a log y-scale."
   ]
  },
  {
   "cell_type": "code",
   "execution_count": 7,
   "metadata": {
    "tags": [
     "hide-input"
    ]
   },
   "outputs": [
    {
     "data": {
      "image/png": "[encoded data removed]",
      "text/plain": [
       "<Figure size 720x432 with 1 Axes>"
      ]
     },
     "metadata": {
      "needs_background": "light"
     },
     "output_type": "display_data"
    }
   ],
   "source": [
    "\n",
    "\n",
    "def plot_pvalues(results, line_locs=[0.05, 0.005, 0.0005]):\n",
    "    results = results.copy()\n",
    "\n",
    "    styles = [\"-\", \"--\", \":\"]\n",
    "    line_kws = dict(color=\"black\", alpha=0.7, linewidth=1.5, zorder=-1)\n",
    "\n",
    "    # plot p-values by embedding dimension\n",
    "    _, ax = plt.subplots(1, 1, figsize=(10, 6))\n",
    "    sns.scatterplot(\n",
    "        data=results,\n",
    "        x=\"n_components\",\n",
    "        y=\"pvalue\",\n",
    "        ax=ax,\n",
    "        s=40,\n",
    "    )\n",
    "    ax.set_yscale(\"log\")\n",
    "    styles = [\"-\", \"--\", \":\"]\n",
    "    line_kws = dict(color=\"black\", alpha=0.7, linewidth=1.5, zorder=-1)\n",
    "    for loc, style in zip(line_locs, styles):\n",
    "        ax.axhline(loc, linestyle=style, **line_kws)\n",
    "        ax.text(ax.get_xlim()[-1] + 0.1, loc, loc, ha=\"left\", va=\"center\")\n",
    "    ax.set(xlabel=\"Dimension\", ylabel=\"p-value\")\n",
    "    # ax.get_legend().remove()\n",
    "    # ax.legend(bbox_to_anchor=(1.15, 1), loc=\"upper left\", title=\"Alignment\")\n",
    "\n",
    "    xlim = ax.get_xlim()\n",
    "    for x in range(1, int(xlim[1]), 2):\n",
    "        ax.axvspan(x - 0.5, x + 0.5, color=\"lightgrey\", alpha=0.2, linewidth=0)\n",
    "\n",
    "    plt.tight_layout()\n",
    "\n",
    "\n",
    "plot_pvalues(results)\n",
    "stashfig(\n",
    "    f\"naive-pvalues-test={test}-n_bootstraps={n_bootstraps}-preprocess={preprocess}\"\n",
    ")"
   ]
  },
  {
   "cell_type": "markdown",
   "metadata": {
    "lines_to_next_cell": 0
   },
   "source": [
    "## End"
   ]
  },
  {
   "cell_type": "code",
   "execution_count": 8,
   "metadata": {
    "tags": [
     "hide-input"
    ]
   },
   "outputs": [
    {
     "name": "stdout",
     "output_type": "stream",
     "text": [
      "----\n",
      "Script took 0:01:25.071304\n",
      "Completed at 2021-05-11 15:15:32.009607\n",
      "----\n"
     ]
    }
   ],
   "source": [
    "elapsed = time.time() - t0\n",
    "delta = datetime.timedelta(seconds=elapsed)\n",
    "print(\"----\")\n",
    "print(f\"Script took {delta}\")\n",
    "print(f\"Completed at {datetime.datetime.now()}\")\n",
    "print(\"----\")"
   ]
  }
 ],
 "metadata": {
  "jupytext": {
   "cell_metadata_filter": "-all",
   "main_language": "python",
   "notebook_metadata_filter": "-all"
  },
  "language_info": {
   "codemirror_mode": {
    "name": "ipython",
    "version": 3
   },
   "file_extension": ".py",
   "mimetype": "text/x-python",
   "name": "python",
   "nbconvert_exporter": "python",
   "pygments_lexer": "ipython3",
   "version": "3.8.5"
  }
 },
 "nbformat": 4,
 "nbformat_minor": 4
}
