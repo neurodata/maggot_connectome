{
 "cells": [
  {
   "cell_type": "markdown",
   "metadata": {
    "lines_to_next_cell": 0
   },
   "source": [
    "# Test for bilateral symmetry - latent distribution test"
   ]
  },
  {
   "cell_type": "markdown",
   "metadata": {
    "lines_to_next_cell": 0
   },
   "source": [
    "## Preliminaries"
   ]
  },
  {
   "cell_type": "code",
   "execution_count": 1,
   "metadata": {
    "tags": [
     "hide-input"
    ]
   },
   "outputs": [],
   "source": [
    "from pkg.utils import set_warnings\n",
    "\n",
    "import datetime\n",
    "import pprint\n",
    "import time\n",
    "\n",
    "import matplotlib.pyplot as plt\n",
    "import numpy as np\n",
    "import pandas as pd\n",
    "import seaborn as sns\n",
    "from giskard.utils import get_paired_inds\n",
    "from graspologic.align import OrthogonalProcrustes, SeedlessProcrustes\n",
    "from graspologic.embed import AdjacencySpectralEmbed, select_dimension\n",
    "from graspologic.utils import (\n",
    "    augment_diagonal,\n",
    "    binarize,\n",
    "    pass_to_ranks,\n",
    ")\n",
    "from hyppo.ksample import KSample\n",
    "from pkg.data import (\n",
    "    load_maggot_graph,\n",
    "    load_network_palette,\n",
    "    load_node_palette,\n",
    "    select_nice_nodes,\n",
    ")\n",
    "from pkg.io import savefig\n",
    "from pkg.plot import set_theme\n",
    "from giskard.align import joint_procrustes\n",
    "\n",
    "\n",
    "def stashfig(name, **kwargs):\n",
    "    foldername = \"latent_distribution_test\"\n",
    "    savefig(name, foldername=foldername, **kwargs)"
   ]
  },
  {
   "cell_type": "markdown",
   "metadata": {
    "lines_to_next_cell": 0
   },
   "source": [
    "## Load and process data"
   ]
  },
  {
   "cell_type": "code",
   "execution_count": 2,
   "metadata": {
    "tags": [
     "hide-input"
    ]
   },
   "outputs": [
    {
     "name": "stdout",
     "output_type": "stream",
     "text": [
      "Removed 13 nodes when taking the largest connected component.\n",
      "Removed 38 nodes when removing pendants.\n",
      "Removed 0 nodes when taking the largest connected component.\n"
     ]
    }
   ],
   "source": [
    "\n",
    "t0 = time.time()\n",
    "set_theme()\n",
    "\n",
    "network_palette, NETWORK_KEY = load_network_palette()\n",
    "node_palette, NODE_KEY = load_node_palette()\n",
    "\n",
    "mg = load_maggot_graph()\n",
    "mg = select_nice_nodes(mg)\n",
    "nodes = mg.nodes\n",
    "left_nodes = nodes[nodes[\"hemisphere\"] == \"L\"]\n",
    "left_inds = left_nodes[\"_inds\"]\n",
    "right_nodes = nodes[nodes[\"hemisphere\"] == \"R\"]\n",
    "right_inds = right_nodes[\"_inds\"]\n",
    "left_paired_inds, right_paired_inds = get_paired_inds(\n",
    "    nodes, pair_key=\"predicted_pair\", pair_id_key=\"predicted_pair_id\"\n",
    ")\n",
    "right_paired_inds_shifted = right_paired_inds - len(left_inds)\n",
    "adj = mg.sum.adj\n",
    "ll_adj = adj[np.ix_(left_inds, left_inds)]\n",
    "rr_adj = adj[np.ix_(right_inds, right_inds)]"
   ]
  },
  {
   "cell_type": "markdown",
   "metadata": {
    "lines_to_next_cell": 0
   },
   "source": [
    "## Embed the network using adjacency spectral embedding"
   ]
  },
  {
   "cell_type": "code",
   "execution_count": 3,
   "metadata": {
    "tags": [
     "hide-input"
    ]
   },
   "outputs": [
    {
     "name": "stderr",
     "output_type": "stream",
     "text": [
      "/Users/bpedigo/JHU_code/maggot/graspologic/graspologic/embed/ase.py:166: UserWarning: Input graph is not fully connected. Results may notbe optimal. You can compute the largest connected component byusing ``graspologic.utils.largest_connected_component``.\n",
      "  warnings.warn(msg, UserWarning)\n"
     ]
    }
   ],
   "source": [
    "def preprocess_for_embed(ll_adj, rr_adj, preprocess):\n",
    "    if \"binarize\" in preprocess:\n",
    "        ll_adj_to_embed = binarize(ll_adj)\n",
    "        rr_adj_to_embed = binarize(rr_adj)\n",
    "\n",
    "    if \"rescale\" in preprocess:\n",
    "        ll_norm = np.linalg.norm(ll_adj_to_embed, ord=\"fro\")\n",
    "        rr_norm = np.linalg.norm(rr_adj_to_embed, ord=\"fro\")\n",
    "        mean_norm = (ll_norm + rr_norm) / 2\n",
    "        ll_adj_to_embed *= mean_norm / ll_norm\n",
    "        rr_adj_to_embed *= mean_norm / rr_norm\n",
    "    return ll_adj_to_embed, rr_adj_to_embed\n",
    "\n",
    "\n",
    "def embed(adj, n_components=40, ptr=False):\n",
    "    if ptr:\n",
    "        adj = pass_to_ranks(adj)\n",
    "    elbow_inds, _ = select_dimension(augment_diagonal(adj), n_elbows=5)\n",
    "    elbow_inds = np.array(elbow_inds)\n",
    "    ase = AdjacencySpectralEmbed(n_components=n_components)\n",
    "    out_latent, in_latent = ase.fit_transform(adj)\n",
    "    return out_latent, in_latent, ase.singular_values_, elbow_inds\n",
    "\n",
    "\n",
    "def split_adj(adj):\n",
    "    ll_adj = adj[np.ix_(left_inds, left_inds)]\n",
    "    rr_adj = adj[np.ix_(right_inds, right_inds)]\n",
    "    lr_adj = adj[np.ix_(left_inds, right_inds)]\n",
    "    rl_adj = adj[np.ix_(right_inds, left_inds)]\n",
    "    return ll_adj, rr_adj, lr_adj, rl_adj\n",
    "\n",
    "\n",
    "align_n_components = 24\n",
    "preprocess = [\"binarize\", \"rescale\"]\n",
    "\n",
    "raw_adj = mg.sum.adj.copy()\n",
    "\n",
    "ll_adj, rr_adj, _, _ = split_adj(raw_adj)\n",
    "\n",
    "ll_adj_to_embed, rr_adj_to_embed = preprocess_for_embed(ll_adj, rr_adj, preprocess)\n",
    "\n",
    "X_ll, Y_ll, left_sing_vals, left_elbow_inds = embed(\n",
    "    ll_adj_to_embed, n_components=align_n_components\n",
    ")\n",
    "X_rr, Y_rr, right_sing_vals, right_elbow_inds = embed(\n",
    "    rr_adj_to_embed, n_components=align_n_components\n",
    ")"
   ]
  },
  {
   "cell_type": "code",
   "execution_count": 4,
   "metadata": {
    "tags": [
     "hide-input"
    ]
   },
   "outputs": [],
   "source": [
    "\n",
    "\n",
    "X_ll, Y_ll = joint_procrustes(\n",
    "    (X_ll, Y_ll),\n",
    "    (X_rr, Y_rr),\n",
    "    method=\"seeded\",\n",
    "    seeds=(left_paired_inds, right_paired_inds_shifted),\n",
    ")"
   ]
  },
  {
   "cell_type": "markdown",
   "metadata": {
    "lines_to_next_cell": 0
   },
   "source": [
    "## Hypothesis testing on the embeddings\n",
    "To test whether the distribution of latent positions is different, we use the approach\n",
    "of the \"nonpar\" test, also called the latent distribution test. Here, for the backend\n",
    "2-sample test, we use distance correlation (Dcorr)."
   ]
  },
  {
   "cell_type": "code",
   "execution_count": 5,
   "metadata": {
    "lines_to_next_cell": 2,
    "tags": [
     "hide-input"
    ]
   },
   "outputs": [],
   "source": [
    "test = \"dcorr\"\n",
    "workers = -1\n",
    "auto = True\n",
    "if auto:\n",
    "    n_bootstraps = None\n",
    "else:\n",
    "    n_bootstraps = 500\n",
    "\n",
    "\n",
    "def run_test(\n",
    "    X1,\n",
    "    X2,\n",
    "    rows=None,\n",
    "    info={},\n",
    "    auto=auto,\n",
    "    n_bootstraps=n_bootstraps,\n",
    "    workers=workers,\n",
    "    test=test,\n",
    "    print_out=False,\n",
    "):\n",
    "    currtime = time.time()\n",
    "    test_obj = KSample(test)\n",
    "    tstat, pvalue = test_obj.test(\n",
    "        X1,\n",
    "        X2,\n",
    "        reps=n_bootstraps,\n",
    "        workers=workers,\n",
    "        auto=auto,\n",
    "    )\n",
    "    elapsed = time.time() - currtime\n",
    "    row = {\n",
    "        \"pvalue\": pvalue,\n",
    "        \"tstat\": tstat,\n",
    "        \"elapsed\": elapsed,\n",
    "    }\n",
    "    row.update(info)\n",
    "    if print_out:\n",
    "        pprint.pprint(row)\n",
    "    if rows is not None:\n",
    "        rows.append(row)\n",
    "    else:\n",
    "        return row"
   ]
  },
  {
   "cell_type": "markdown",
   "metadata": {
    "lines_to_next_cell": 0
   },
   "source": [
    "### Run the two-sample test for varying embedding dimension"
   ]
  },
  {
   "cell_type": "code",
   "execution_count": 6,
   "metadata": {
    "tags": [
     "hide-input"
    ]
   },
   "outputs": [],
   "source": [
    "\n",
    "\n",
    "rows = []\n",
    "for n_components in np.arange(1, align_n_components + 1):\n",
    "    left_composite_latent = np.concatenate(\n",
    "        (X_ll[:, :n_components], Y_ll[:, :n_components]), axis=1\n",
    "    )\n",
    "    right_composite_latent = np.concatenate(\n",
    "        (X_rr[:, :n_components], Y_rr[:, :n_components]), axis=1\n",
    "    )\n",
    "\n",
    "    run_test(\n",
    "        left_composite_latent,\n",
    "        right_composite_latent,\n",
    "        rows,\n",
    "        info={\"alignment\": \"SOP\", \"n_components\": n_components},\n",
    "    )\n",
    "\n",
    "results = pd.DataFrame(rows)"
   ]
  },
  {
   "cell_type": "markdown",
   "metadata": {
    "lines_to_next_cell": 0
   },
   "source": [
    "### Plot the 2-sample test p-values by varying dimension\n",
    "Note: these are on a log y-scale."
   ]
  },
  {
   "cell_type": "code",
   "execution_count": 7,
   "metadata": {
    "tags": [
     "hide-input"
    ]
   },
   "outputs": [
    {
     "data": {
      "image/png": "[encoded data removed]",
      "text/plain": [
       "<Figure size 720x432 with 1 Axes>"
      ]
     },
     "metadata": {
      "needs_background": "light"
     },
     "output_type": "display_data"
    }
   ],
   "source": [
    "\n",
    "\n",
    "def plot_pvalues(results, line_locs=[0.05, 0.005, 0.0005]):\n",
    "    results = results.copy()\n",
    "\n",
    "    styles = [\"-\", \"--\", \":\"]\n",
    "    line_kws = dict(color=\"black\", alpha=0.7, linewidth=1.5, zorder=-1)\n",
    "\n",
    "    # plot p-values by embedding dimension\n",
    "    _, ax = plt.subplots(1, 1, figsize=(10, 6))\n",
    "    sns.scatterplot(\n",
    "        data=results,\n",
    "        x=\"n_components\",\n",
    "        y=\"pvalue\",\n",
    "        ax=ax,\n",
    "        s=40,\n",
    "    )\n",
    "    ax.set_yscale(\"log\")\n",
    "    styles = [\"-\", \"--\", \":\"]\n",
    "    line_kws = dict(color=\"black\", alpha=0.7, linewidth=1.5, zorder=-1)\n",
    "    for loc, style in zip(line_locs, styles):\n",
    "        ax.axhline(loc, linestyle=style, **line_kws)\n",
    "        ax.text(ax.get_xlim()[-1] + 0.1, loc, loc, ha=\"left\", va=\"center\")\n",
    "    ax.set(xlabel=\"Dimension\", ylabel=\"p-value\")\n",
    "    # ax.get_legend().remove()\n",
    "    # ax.legend(bbox_to_anchor=(1.15, 1), loc=\"upper left\", title=\"Alignment\")\n",
    "\n",
    "    xlim = ax.get_xlim()\n",
    "    for x in range(1, int(xlim[1]), 2):\n",
    "        ax.axvspan(x - 0.5, x + 0.5, color=\"lightgrey\", alpha=0.2, linewidth=0)\n",
    "\n",
    "    plt.tight_layout()\n",
    "\n",
    "\n",
    "plot_pvalues(results)\n",
    "stashfig(\n",
    "    f\"naive-pvalues-test={test}-n_bootstraps={n_bootstraps}-preprocess={preprocess}\"\n",
    ")"
   ]
  },
  {
   "cell_type": "markdown",
   "metadata": {
    "lines_to_next_cell": 0
   },
   "source": [
    "## Now do a synthetic alternative experiment"
   ]
  },
  {
   "cell_type": "code",
   "execution_count": 8,
   "metadata": {
    "tags": [
     "hide-input"
    ]
   },
   "outputs": [
    {
     "name": "stdout",
     "output_type": "stream",
     "text": [
      "None\n"
     ]
    },
    {
     "name": "stderr",
     "output_type": "stream",
     "text": [
      "/Users/bpedigo/JHU_code/maggot/graspologic/graspologic/embed/ase.py:166: UserWarning: Input graph is not fully connected. Results may notbe optimal. You can compute the largest connected component byusing ``graspologic.utils.largest_connected_component``.\n",
      "  warnings.warn(msg, UserWarning)\n"
     ]
    },
    {
     "name": "stdout",
     "output_type": "stream",
     "text": [
      "MBONs\n"
     ]
    },
    {
     "name": "stderr",
     "output_type": "stream",
     "text": [
      "/Users/bpedigo/JHU_code/maggot/graspologic/graspologic/embed/ase.py:166: UserWarning: Input graph is not fully connected. Results may notbe optimal. You can compute the largest connected component byusing ``graspologic.utils.largest_connected_component``.\n",
      "  warnings.warn(msg, UserWarning)\n"
     ]
    },
    {
     "name": "stdout",
     "output_type": "stream",
     "text": [
      "MBINs\n"
     ]
    },
    {
     "name": "stderr",
     "output_type": "stream",
     "text": [
      "/Users/bpedigo/JHU_code/maggot/graspologic/graspologic/embed/ase.py:166: UserWarning: Input graph is not fully connected. Results may notbe optimal. You can compute the largest connected component byusing ``graspologic.utils.largest_connected_component``.\n",
      "  warnings.warn(msg, UserWarning)\n"
     ]
    },
    {
     "name": "stdout",
     "output_type": "stream",
     "text": [
      "PNs\n"
     ]
    },
    {
     "name": "stderr",
     "output_type": "stream",
     "text": [
      "/Users/bpedigo/JHU_code/maggot/graspologic/graspologic/embed/ase.py:166: UserWarning: Input graph is not fully connected. Results may notbe optimal. You can compute the largest connected component byusing ``graspologic.utils.largest_connected_component``.\n",
      "  warnings.warn(msg, UserWarning)\n"
     ]
    },
    {
     "name": "stdout",
     "output_type": "stream",
     "text": [
      "KCs\n"
     ]
    },
    {
     "name": "stderr",
     "output_type": "stream",
     "text": [
      "/Users/bpedigo/JHU_code/maggot/graspologic/graspologic/embed/ase.py:166: UserWarning: Input graph is not fully connected. Results may notbe optimal. You can compute the largest connected component byusing ``graspologic.utils.largest_connected_component``.\n",
      "  warnings.warn(msg, UserWarning)\n"
     ]
    },
    {
     "name": "stdout",
     "output_type": "stream",
     "text": [
      "sensories\n"
     ]
    },
    {
     "name": "stderr",
     "output_type": "stream",
     "text": [
      "/Users/bpedigo/JHU_code/maggot/graspologic/graspologic/embed/ase.py:166: UserWarning: Input graph is not fully connected. Results may notbe optimal. You can compute the largest connected component byusing ``graspologic.utils.largest_connected_component``.\n",
      "  warnings.warn(msg, UserWarning)\n"
     ]
    },
    {
     "name": "stdout",
     "output_type": "stream",
     "text": [
      "LNs\n"
     ]
    },
    {
     "name": "stderr",
     "output_type": "stream",
     "text": [
      "/Users/bpedigo/JHU_code/maggot/graspologic/graspologic/embed/ase.py:166: UserWarning: Input graph is not fully connected. Results may notbe optimal. You can compute the largest connected component byusing ``graspologic.utils.largest_connected_component``.\n",
      "  warnings.warn(msg, UserWarning)\n"
     ]
    },
    {
     "data": {
      "text/html": [
       "<div>\n",
       "<style scoped>\n",
       "    .dataframe tbody tr th:only-of-type {\n",
       "        vertical-align: middle;\n",
       "    }\n",
       "\n",
       "    .dataframe tbody tr th {\n",
       "        vertical-align: top;\n",
       "    }\n",
       "\n",
       "    .dataframe thead th {\n",
       "        text-align: right;\n",
       "    }\n",
       "</style>\n",
       "<table border=\"1\" class=\"dataframe\">\n",
       "  <thead>\n",
       "    <tr style=\"text-align: right;\">\n",
       "      <th></th>\n",
       "      <th>pvalue</th>\n",
       "      <th>tstat</th>\n",
       "      <th>elapsed</th>\n",
       "      <th>alignment</th>\n",
       "      <th>n_components</th>\n",
       "      <th>perturb_group</th>\n",
       "      <th>n_perturb</th>\n",
       "    </tr>\n",
       "  </thead>\n",
       "  <tbody>\n",
       "    <tr>\n",
       "      <th>0</th>\n",
       "      <td>0.606708</td>\n",
       "      <td>-0.000248</td>\n",
       "      <td>0.899064</td>\n",
       "      <td>SOP</td>\n",
       "      <td>1</td>\n",
       "      <td>None</td>\n",
       "      <td>0</td>\n",
       "    </tr>\n",
       "    <tr>\n",
       "      <th>1</th>\n",
       "      <td>1.000000</td>\n",
       "      <td>-0.000479</td>\n",
       "      <td>0.783196</td>\n",
       "      <td>SOP</td>\n",
       "      <td>2</td>\n",
       "      <td>None</td>\n",
       "      <td>0</td>\n",
       "    </tr>\n",
       "    <tr>\n",
       "      <th>2</th>\n",
       "      <td>1.000000</td>\n",
       "      <td>-0.000662</td>\n",
       "      <td>0.797197</td>\n",
       "      <td>SOP</td>\n",
       "      <td>3</td>\n",
       "      <td>None</td>\n",
       "      <td>0</td>\n",
       "    </tr>\n",
       "    <tr>\n",
       "      <th>3</th>\n",
       "      <td>1.000000</td>\n",
       "      <td>-0.000716</td>\n",
       "      <td>0.828584</td>\n",
       "      <td>SOP</td>\n",
       "      <td>4</td>\n",
       "      <td>None</td>\n",
       "      <td>0</td>\n",
       "    </tr>\n",
       "    <tr>\n",
       "      <th>4</th>\n",
       "      <td>1.000000</td>\n",
       "      <td>-0.000573</td>\n",
       "      <td>0.784464</td>\n",
       "      <td>SOP</td>\n",
       "      <td>5</td>\n",
       "      <td>None</td>\n",
       "      <td>0</td>\n",
       "    </tr>\n",
       "    <tr>\n",
       "      <th>...</th>\n",
       "      <td>...</td>\n",
       "      <td>...</td>\n",
       "      <td>...</td>\n",
       "      <td>...</td>\n",
       "      <td>...</td>\n",
       "      <td>...</td>\n",
       "      <td>...</td>\n",
       "    </tr>\n",
       "    <tr>\n",
       "      <th>107</th>\n",
       "      <td>0.002860</td>\n",
       "      <td>0.002664</td>\n",
       "      <td>0.759584</td>\n",
       "      <td>SOP</td>\n",
       "      <td>12</td>\n",
       "      <td>LNs</td>\n",
       "      <td>10</td>\n",
       "    </tr>\n",
       "    <tr>\n",
       "      <th>108</th>\n",
       "      <td>0.003563</td>\n",
       "      <td>0.002529</td>\n",
       "      <td>0.769080</td>\n",
       "      <td>SOP</td>\n",
       "      <td>13</td>\n",
       "      <td>LNs</td>\n",
       "      <td>10</td>\n",
       "    </tr>\n",
       "    <tr>\n",
       "      <th>109</th>\n",
       "      <td>0.000889</td>\n",
       "      <td>0.003391</td>\n",
       "      <td>0.767693</td>\n",
       "      <td>SOP</td>\n",
       "      <td>14</td>\n",
       "      <td>LNs</td>\n",
       "      <td>10</td>\n",
       "    </tr>\n",
       "    <tr>\n",
       "      <th>110</th>\n",
       "      <td>0.000226</td>\n",
       "      <td>0.004253</td>\n",
       "      <td>0.767576</td>\n",
       "      <td>SOP</td>\n",
       "      <td>15</td>\n",
       "      <td>LNs</td>\n",
       "      <td>10</td>\n",
       "    </tr>\n",
       "    <tr>\n",
       "      <th>111</th>\n",
       "      <td>0.000408</td>\n",
       "      <td>0.003880</td>\n",
       "      <td>0.776073</td>\n",
       "      <td>SOP</td>\n",
       "      <td>16</td>\n",
       "      <td>LNs</td>\n",
       "      <td>10</td>\n",
       "    </tr>\n",
       "  </tbody>\n",
       "</table>\n",
       "<p>112 rows × 7 columns</p>\n",
       "</div>"
      ],
      "text/plain": [
       "       pvalue     tstat   elapsed alignment  n_components perturb_group  \\\n",
       "0    0.606708 -0.000248  0.899064       SOP             1          None   \n",
       "1    1.000000 -0.000479  0.783196       SOP             2          None   \n",
       "2    1.000000 -0.000662  0.797197       SOP             3          None   \n",
       "3    1.000000 -0.000716  0.828584       SOP             4          None   \n",
       "4    1.000000 -0.000573  0.784464       SOP             5          None   \n",
       "..        ...       ...       ...       ...           ...           ...   \n",
       "107  0.002860  0.002664  0.759584       SOP            12           LNs   \n",
       "108  0.003563  0.002529  0.769080       SOP            13           LNs   \n",
       "109  0.000889  0.003391  0.767693       SOP            14           LNs   \n",
       "110  0.000226  0.004253  0.767576       SOP            15           LNs   \n",
       "111  0.000408  0.003880  0.776073       SOP            16           LNs   \n",
       "\n",
       "     n_perturb  \n",
       "0            0  \n",
       "1            0  \n",
       "2            0  \n",
       "3            0  \n",
       "4            0  \n",
       "..         ...  \n",
       "107         10  \n",
       "108         10  \n",
       "109         10  \n",
       "110         10  \n",
       "111         10  \n",
       "\n",
       "[112 rows x 7 columns]"
      ]
     },
     "execution_count": 8,
     "metadata": {},
     "output_type": "execute_result"
    }
   ],
   "source": [
    "from sklearn.preprocessing import normalize\n",
    "\n",
    "align_n_components = 16\n",
    "n_perturb = 10\n",
    "do_normalize = True\n",
    "groups = [\"None\", \"MBONs\", \"MBINs\", \"PNs\", \"KCs\", \"sensories\", \"LNs\"]\n",
    "rows = []\n",
    "for group in groups:\n",
    "    print(group)\n",
    "    ll_adj_perturbed = ll_adj_to_embed.copy()\n",
    "    if group != \"None\":\n",
    "        group_nodes = left_nodes[left_nodes[\"simple_group\"] == group]\n",
    "        effective_n_perturb = min(n_perturb, len(group_nodes))\n",
    "        perturb_index = np.random.choice(\n",
    "            group_nodes.index, size=effective_n_perturb, replace=False\n",
    "        )\n",
    "        perturb_inds = group_nodes.loc[perturb_index, \"_inds\"]\n",
    "        for i in perturb_inds:\n",
    "            perm_inds = np.random.permutation(len(ll_adj))\n",
    "            ll_adj_perturbed[i] = ll_adj_perturbed[i, perm_inds]\n",
    "            perm_inds = np.random.permutation(len(ll_adj))\n",
    "            ll_adj_perturbed[:, i] = ll_adj_perturbed[perm_inds, i]\n",
    "    else:\n",
    "        effective_n_perturb = 0\n",
    "    X_ll, Y_ll, left_sing_vals, left_elbow_inds = embed(\n",
    "        ll_adj_perturbed, n_components=align_n_components\n",
    "    )\n",
    "    X_rr, Y_rr, right_sing_vals, right_elbow_inds = embed(\n",
    "        rr_adj_to_embed, n_components=align_n_components\n",
    "    )\n",
    "    if do_normalize:\n",
    "        X_ll = normalize(X_ll)\n",
    "        Y_ll = normalize(Y_ll)\n",
    "        X_rr = normalize(X_rr)\n",
    "        Y_rr = normalize(Y_rr)\n",
    "    X_ll, Y_ll = joint_procrustes(\n",
    "        (X_ll, Y_ll),\n",
    "        (X_rr, Y_rr),\n",
    "        method=\"seeded\",\n",
    "        seeds=(left_paired_inds, right_paired_inds_shifted),\n",
    "    )\n",
    "\n",
    "    for n_components in np.arange(1, align_n_components + 1):\n",
    "        left_composite_latent = np.concatenate(\n",
    "            (X_ll[:, :n_components], Y_ll[:, :n_components]), axis=1\n",
    "        )\n",
    "        # left_composite_latent = normalize(left_composite_latent)\n",
    "        right_composite_latent = np.concatenate(\n",
    "            (X_rr[:, :n_components], Y_rr[:, :n_components]), axis=1\n",
    "        )\n",
    "        # right_composite_latent = normalize(right_composite_latent)\n",
    "\n",
    "        run_test(\n",
    "            left_composite_latent,\n",
    "            right_composite_latent,\n",
    "            rows,\n",
    "            info={\n",
    "                \"alignment\": \"SOP\",\n",
    "                \"n_components\": n_components,\n",
    "                \"perturb_group\": group,\n",
    "                \"n_perturb\": effective_n_perturb,\n",
    "            },\n",
    "        )\n",
    "\n",
    "results = pd.DataFrame(rows)\n",
    "results"
   ]
  },
  {
   "cell_type": "code",
   "execution_count": 9,
   "metadata": {
    "lines_to_next_cell": 0,
    "tags": [
     "hide-input"
    ]
   },
   "outputs": [
    {
     "data": {
      "image/png": "[encoded data removed]",
      "text/plain": [
       "<Figure size 576x432 with 1 Axes>"
      ]
     },
     "metadata": {
      "needs_background": "light"
     },
     "output_type": "display_data"
    }
   ],
   "source": [
    "\n",
    "node_palette[\"None\"] = \"#808080\"  # grey\n",
    "n_perturbs = results.groupby(\"perturb_group\")[\"n_perturb\"].first()\n",
    "fig, ax = plt.subplots(1, 1, figsize=(8, 6))\n",
    "sns.lineplot(\n",
    "    data=results,\n",
    "    x=\"n_components\",\n",
    "    y=\"pvalue\",\n",
    "    hue=\"perturb_group\",\n",
    "    palette=node_palette,\n",
    ")\n",
    "ax.set_yscale(\"log\")\n",
    "handles, labels = ax.get_legend_handles_labels()\n",
    "new_labels = []\n",
    "for label in labels:\n",
    "    new_labels.append(label + f\" ({n_perturbs[label]})\")\n",
    "ax.get_legend().remove()\n",
    "ax.legend(\n",
    "    handles=handles,\n",
    "    labels=new_labels,\n",
    "    bbox_to_anchor=(1.15, 1),\n",
    "    loc=\"upper left\",\n",
    "    title=\"Perturb\\ngroup\",\n",
    ")\n",
    "styles = [\"-\", \"--\", \":\"]\n",
    "line_locs = [0.05, 0.005, 0.0005]\n",
    "line_kws = dict(color=\"black\", alpha=0.7, linewidth=1.5, zorder=-1)\n",
    "for loc, style in zip(line_locs, styles):\n",
    "    ax.axhline(loc, linestyle=style, **line_kws)\n",
    "    ax.text(ax.get_xlim()[-1] + 0.1, loc, loc, ha=\"left\", va=\"center\")\n",
    "ax.set(xlabel=\"# of dimensions\", ylabel='p-value')\n",
    "stashfig(\n",
    "    f\"perturb-p-values-n_perturb={n_perturb}-align_n_component={align_n_components}-normalize={do_normalize}\"\n",
    ")"
   ]
  },
  {
   "cell_type": "markdown",
   "metadata": {
    "lines_to_next_cell": 0
   },
   "source": [
    "## End"
   ]
  },
  {
   "cell_type": "code",
   "execution_count": 10,
   "metadata": {
    "tags": [
     "hide-input"
    ]
   },
   "outputs": [
    {
     "name": "stdout",
     "output_type": "stream",
     "text": [
      "----\n",
      "Script took 0:05:07.648001\n",
      "Completed at 2021-05-13 11:19:00.387545\n",
      "----\n"
     ]
    }
   ],
   "source": [
    "elapsed = time.time() - t0\n",
    "delta = datetime.timedelta(seconds=elapsed)\n",
    "print(\"----\")\n",
    "print(f\"Script took {delta}\")\n",
    "print(f\"Completed at {datetime.datetime.now()}\")\n",
    "print(\"----\")"
   ]
  }
 ],
 "metadata": {
  "jupytext": {
   "cell_metadata_filter": "-all",
   "main_language": "python",
   "notebook_metadata_filter": "-all"
  },
  "language_info": {
   "codemirror_mode": {
    "name": "ipython",
    "version": 3
   },
   "file_extension": ".py",
   "mimetype": "text/x-python",
   "name": "python",
   "nbconvert_exporter": "python",
   "pygments_lexer": "ipython3",
   "version": "3.8.5"
  }
 },
 "nbformat": 4,
 "nbformat_minor": 4
}
