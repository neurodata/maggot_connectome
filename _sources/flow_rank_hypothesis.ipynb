{
 "cells": [
  {
   "cell_type": "markdown",
   "metadata": {},
   "source": [
    "# Flow ranking and hypothesis testing\n",
    "TODO: explain the goal of finding a latent ordering, comparing between graphs"
   ]
  },
  {
   "cell_type": "markdown",
   "metadata": {},
   "source": [
    "TODO: explain some of the math behind spring rank/signal flow"
   ]
  },
  {
   "cell_type": "code",
   "execution_count": null,
   "metadata": {
    "tags": [
     "hide-input"
    ]
   },
   "outputs": [],
   "source": [
    "import os\n",
    "\n",
    "import matplotlib.pyplot as plt\n",
    "import numpy as np\n",
    "import pandas as pd\n",
    "import seaborn as sns\n",
    "from scipy.stats import pearsonr\n",
    "from tqdm import tqdm\n",
    "\n",
    "import SpringRank as sr\n",
    "from giskard.plot import histplot\n",
    "from pkg.flow import estimate_spring_rank_P\n",
    "from pkg.io import savefig\n",
    "from pkg.plot import set_theme\n",
    "from src.visualization import adjplot\n",
    "\n",
    "root_path = \"/Users/bpedigo/JHU_code/maggot\"\n",
    "cwd = os.getcwd()\n",
    "if cwd != root_path:\n",
    "    os.chdir(root_path)\n",
    "\n",
    "\n",
    "set_theme()\n",
    "\n",
    "rng = np.random.default_rng(seed=8888)\n",
    "\n",
    "\n",
    "def stashfig(name, **kwargs):\n",
    "    savefig(name, foldername=\"flow_rank_hypothesis\", print_out=False, **kwargs)"
   ]
  },
  {
   "cell_type": "markdown",
   "metadata": {
    "lines_to_next_cell": 0
   },
   "source": [
    "## Creating latent \"ranks\" or \"orderings\"\n",
    "Here I sample some latent ranks that we'll use for simulations, this distribution came\n",
    "from the original paper."
   ]
  },
  {
   "cell_type": "code",
   "execution_count": null,
   "metadata": {
    "tags": [
     "hide-input"
    ]
   },
   "outputs": [],
   "source": [
    "\n",
    "colors = sns.color_palette(\"deep\", desat=1)\n",
    "palette = dict(zip(range(3), colors))\n",
    "\n",
    "n_per_group = 100  # 34 in the paper\n",
    "ones = np.ones(n_per_group, dtype=int)\n",
    "\n",
    "X1 = rng.normal(-4, np.sqrt(2), size=n_per_group)\n",
    "X2 = rng.normal(0, np.sqrt(1 / 2), size=n_per_group)\n",
    "X3 = rng.normal(4, 1, size=n_per_group)\n",
    "X = np.concatenate((X1, X2, X3))\n",
    "labels = np.concatenate((0 * ones, 1 * ones, 2 * ones))\n",
    "\n",
    "# sort to help visualize\n",
    "sort_inds = np.argsort(-X)\n",
    "X = X[sort_inds]\n",
    "labels = labels[sort_inds]\n",
    "\n",
    "fig, ax = plt.subplots(1, 1, figsize=(8, 6))\n",
    "sns.histplot(x=X, hue=labels, palette=palette, bins=50, stat=\"density\", ax=ax)\n",
    "sns.rugplot(\n",
    "    x=X,\n",
    "    hue=labels,\n",
    "    palette=palette,\n",
    "    height=0.05,\n",
    "    legend=False,\n",
    "    ax=ax,\n",
    "    expand_margins=True,\n",
    ")\n",
    "stashfig(\"rank-distribution\")"
   ]
  },
  {
   "cell_type": "markdown",
   "metadata": {
    "lines_to_next_cell": 0
   },
   "source": [
    "## A distribution from the latent ranks\n",
    "Using the ranks, we can create a distribution from which to sample graphs. Here I plot\n",
    "the matrix of edge probabilities $P$ and an adjacency matrix $A$ from it."
   ]
  },
  {
   "cell_type": "code",
   "execution_count": null,
   "metadata": {
    "tags": [
     "hide-input"
    ]
   },
   "outputs": [],
   "source": [
    "k = 15\n",
    "beta = 5\n",
    "\n",
    "\n",
    "def construct_spring_rank_P(ranks, beta, degree):\n",
    "    H = ranks[:, None] - ranks[None, :] - 1\n",
    "    H = np.multiply(H, H)\n",
    "    H *= 0.5\n",
    "    P = np.exp(-beta * H)\n",
    "    P /= np.mean(P) * len(P)\n",
    "    P *= degree\n",
    "    # TODO not sure this matches the paper exactly but makes sense to me\n",
    "    return P\n",
    "\n",
    "\n",
    "P = construct_spring_rank_P(X, beta, k)\n",
    "A = rng.poisson(P)\n",
    "\n",
    "fig, axs = plt.subplots(1, 2, figsize=(15, 7.5))\n",
    "ax = axs[0]\n",
    "adjplot(P, ax=ax, title=r\"$P$\", cbar=False)\n",
    "ax = axs[1]\n",
    "adjplot(A, ax=ax, title=r\"$A$\", color=\"darkred\", plot_type=\"scattermap\", sizes=(2, 5))\n",
    "stashfig(\"p-and-adj\")"
   ]
  },
  {
   "cell_type": "markdown",
   "metadata": {
    "lines_to_next_cell": 0
   },
   "source": [
    "If we change the parameters to be point masses for the 3 different groups, we get\n",
    "a specific kind of feedforward SBM model."
   ]
  },
  {
   "cell_type": "code",
   "execution_count": null,
   "metadata": {
    "lines_to_next_cell": 2,
    "tags": [
     "hide-input"
    ]
   },
   "outputs": [],
   "source": [
    "n_per_group = 100\n",
    "X1 = np.ones(n_per_group)\n",
    "X2 = np.ones(n_per_group) * 0\n",
    "X3 = np.ones(n_per_group) * -1\n",
    "X = np.concatenate((X1, X2, X3))\n",
    "labels = np.concatenate((0 * ones, 1 * ones, 2 * ones))\n",
    "\n",
    "k = 15\n",
    "beta = 3\n",
    "\n",
    "P = construct_spring_rank_P(X, beta, k)\n",
    "A = rng.poisson(P)\n",
    "\n",
    "fig, axs = plt.subplots(1, 2, figsize=(15, 7.5))\n",
    "ax = axs[0]\n",
    "adjplot(P, ax=ax, title=r\"$P$\", cbar=False)\n",
    "ax = axs[1]\n",
    "adjplot(A, ax=ax, title=r\"$A$\", color=\"darkred\", plot_type=\"scattermap\", sizes=(2, 5))\n",
    "stashfig(\"p-and-adj-point-mass\")"
   ]
  },
  {
   "cell_type": "markdown",
   "metadata": {
    "lines_to_next_cell": 0
   },
   "source": [
    "## Are the ranks of $G_1$ \"the same\" as the ranks of $G_2$?\n",
    "If we are given two graphs (with an alignment/matching between the nodes of the two\n",
    "graphs) we may want to know whether the latent ranks $s$ of the two graphs are the same.\n",
    "\n",
    "$$ H_0: s_1 = s_2 $$\n",
    "$$ H_a: s_1 \\neq s_2 $$\n",
    "\n",
    "A boostrap procedure (welcome to feedback) to get at this question:\n",
    "- Estimate the ranks from $G_1$, $G_2$\n",
    "- Compute some test statistic ($T(s_1, s_2)$) measuring the distance between these\n",
    "rankings. Examples include some notion of correlation between the ranks. The SpringRank\n",
    "paper also includes a metric based on the energy of the system they define, which is\n",
    "a function of the ranks.\n",
    "- For i in a bunch of times:\n",
    "   - Sample 2 graphs from the same ranks, $s_1$, call them $\\tilde{G^1_1}, \\tilde{G_1^2}$.\n",
    "   - Compute ranks of both, $\\tilde{s_1^1}$ and $\\tilde{s_1^2}$.\n",
    "   - Compute $T(\\tilde{s_1^1}, \\tilde{s_1^2})$\n",
    "   - Do the above 3 steps for $s_2$, yielding $T(\\tilde{s_2^1}, \\tilde{s_2^2})$\n",
    "   - Append $max(T(\\tilde{s_1^1}, \\tilde{s_1^2}), T(\\tilde{s_2^1}, \\tilde{s_2^2}))$ to\n",
    "     null distribution.\n",
    "- Compare $T(s_1, s_2)$ to null distribution to get a p-value.\n",
    "\n",
    "NB: there is a nonidentifiability in the notion of ranks that we don't care about.\n",
    "shifting the ranks up or down by a constant does not affect the resulting distribution\n",
    "on graphs. Here I've just chosen a test statistic (correlation) that happens to not\n",
    "care about this, but it's worth being aware of.\n",
    "%%[markdown]\n",
    "## Power simulations\n",
    "Here I sample latent ranks $s_1$ from the distribution described/plotted above. The\n",
    "ranks $s_2 = s_1 + \\epsilon$, where $\\epsilon \\sim N(0, \\sigma^2 I)$, that is,\n",
    "I perturb the ranks $s_1$ by independent normals for each rank, with some variance\n",
    "$\\sigma^2$.\n",
    "\n",
    "This process is repeated, multiple times for each $\\sigma$ and for increasing levels\n",
    "of $\\sigma$. I then run the bootstrap two sample testing procedure described above for\n",
    "each realization, and examine the distribution of p-values."
   ]
  },
  {
   "cell_type": "code",
   "execution_count": null,
   "metadata": {
    "tags": [
     "hide-input"
    ]
   },
   "outputs": [],
   "source": [
    "\n",
    "\n",
    "def make_ranks(n_per_group=34):\n",
    "    \"\"\"Based on simulations from original spring rank paper\"\"\"\n",
    "    X1 = rng.normal(-4, np.sqrt(2), size=n_per_group)\n",
    "    X2 = rng.normal(0, np.sqrt(1 / 2), size=n_per_group)\n",
    "    X3 = rng.normal(4, 1, size=n_per_group)\n",
    "    X = np.concatenate((X1, X2, X3))\n",
    "    return X\n",
    "\n",
    "\n",
    "def estimate_spring_rank_model(A):\n",
    "    ranks = sr.get_ranks(A)\n",
    "    beta = sr.get_inverse_temperature(A, ranks)\n",
    "    Phat = estimate_spring_rank_P(A, ranks, beta)\n",
    "    return ranks, beta, Phat\n",
    "\n",
    "\n",
    "statistics = [\"pearsons\"]\n",
    "\n",
    "\n",
    "def calculate_test_statistics(ranks1, ranks2):\n",
    "    pearsons = pearsonr(ranks1, ranks2)[0]\n",
    "    return {\"pearsons\": pearsons}\n",
    "\n",
    "\n",
    "def bootstrap_sample(Phat):\n",
    "    A1_tilde = rng.poisson(Phat)\n",
    "    A2_tilde = rng.poisson(Phat)\n",
    "    ranks_A1_tilde = sr.get_ranks(A1_tilde)\n",
    "    ranks_A2_tilde = sr.get_ranks(A2_tilde)\n",
    "\n",
    "    # calculate test statistic(s)\n",
    "    test_statistics = calculate_test_statistics(ranks_A1_tilde, ranks_A2_tilde)\n",
    "    return test_statistics\n",
    "\n",
    "\n",
    "def bootstrap_two_sample_test(A1, A2, n_bootstraps=200):\n",
    "    ranks1, beta1, Phat1 = estimate_spring_rank_model(A1)\n",
    "    ranks2, beta2, Phat2 = estimate_spring_rank_model(A2)\n",
    "    observed_test_statistics = calculate_test_statistics(ranks1, ranks2)\n",
    "    observed_test_statistics[\"graph\"] = \"Observed\"\n",
    "    rows = [observed_test_statistics]\n",
    "    for i in range(n_bootstraps):\n",
    "        test_statistics = bootstrap_sample(Phat1)\n",
    "        test_statistics[\"graph\"] = \"Sampled-1\"\n",
    "        rows.append(test_statistics)\n",
    "\n",
    "        test_statistics = bootstrap_sample(Phat2)\n",
    "        test_statistics[\"graph\"] = \"Sampled-2\"\n",
    "        rows.append(test_statistics)\n",
    "\n",
    "    results = pd.DataFrame(rows)\n",
    "\n",
    "    p_values = []\n",
    "    for test_statistic_name in statistics:\n",
    "        observed_test_statistic = results[results[\"graph\"] == \"Observed\"][\n",
    "            test_statistic_name\n",
    "        ].iloc[0]\n",
    "        null1 = results[results[\"graph\"] == \"Sampled-1\"][test_statistic_name]\n",
    "        p_value1 = np.count_nonzero(null1 < observed_test_statistic) / len(null1)\n",
    "        if p_value1 == 0:\n",
    "            p_value1 = 1 / n_bootstraps\n",
    "        null2 = results[results[\"graph\"] == \"Sampled-1\"][test_statistic_name]\n",
    "        p_value2 = np.count_nonzero(null2 < observed_test_statistic) / len(null2)\n",
    "        if p_value2 == 0:\n",
    "            p_value2 = 1 / n_bootstraps\n",
    "        # use the max of the p-values, extra conservative\n",
    "        p_value = max(p_value1, p_value2)\n",
    "        p_values.append(p_value)\n",
    "    return p_values, results\n",
    "\n",
    "\n",
    "n_per_group = 34\n",
    "n_bootstraps = 200\n",
    "n_repeats = 100\n",
    "# n_bootstraps = 10\n",
    "# n_repeats = 5\n",
    "sigmas = [0, 0.05, 0.1, 0.15, 0.2, 0.25, 0.3, 0.35]\n",
    "experiments = {}\n",
    "p_value_distribution = []\n",
    "for sigma in sigmas:\n",
    "    for repeat in tqdm(range(n_repeats), desc=f\"Sigma = {sigma}\"):\n",
    "        X = make_ranks(n_per_group=n_per_group)\n",
    "        P = construct_spring_rank_P(X, beta, k)\n",
    "        A1 = rng.poisson(P)\n",
    "\n",
    "        X_perturbed = X + rng.normal(scale=sigma, size=len(X))\n",
    "        P_perturbed = construct_spring_rank_P(X_perturbed, beta, k)\n",
    "        A2 = rng.poisson(P_perturbed)\n",
    "\n",
    "        p_values, results = bootstrap_two_sample_test(A1, A2, n_bootstraps=n_bootstraps)\n",
    "        experiments[(sigma, repeat)] = (p_values, results)\n",
    "        p_value_distribution.append(\n",
    "            {\"sigma\": sigma, \"repeat\": repeat, \"p-value\": p_values[0]}\n",
    "        )\n",
    "\n",
    "    # plot one set of nulls at each sigma\n",
    "    fig, ax = plt.subplots(1, 1, figsize=(8, 6))\n",
    "    histplot(\n",
    "        data=results, x=\"pearsons\", hue=\"graph\", ax=ax, stat=\"density\", element=\"step\"\n",
    "    )\n",
    "    stashfig(f\"compare-to-null-sigma={sigma}\")\n",
    "\n",
    "p_value_distribution = pd.DataFrame(p_value_distribution)\n",
    "fig, ax = plt.subplots(1, 1, figsize=(8, 6))\n",
    "sns.stripplot(data=p_value_distribution, x=\"sigma\", y=\"p-value\", ax=ax)\n",
    "stashfig(\"p-values\")\n",
    "\n",
    "p_values_under_null = p_value_distribution[p_value_distribution[\"sigma\"] == 0]\n",
    "fig, ax = plt.subplots(1, 1, figsize=(8, 6))\n",
    "sns.histplot(\n",
    "    data=p_values_under_null,\n",
    "    x=\"p-value\",\n",
    "    cumulative=True,\n",
    "    stat=\"density\",\n",
    "    ax=ax,\n",
    "    element=\"step\",\n",
    "    bins=40,\n",
    ")\n",
    "ax.plot([0, 1], [0, 1], color=\"black\", linestyle=\":\")\n",
    "ax.set(title=\"P-values under the null\", ylabel=\"Cumulative density\")\n",
    "stashfig(\"p-values-null\")"
   ]
  },
  {
   "cell_type": "markdown",
   "metadata": {},
   "source": [
    "## Valid and power goes to 1?\n",
    "At least from the above simulation, it looks like:\n",
    "- The p-values are sub-uniform under the null\n",
    "- The p-values go to 0 as the effect size goes up"
   ]
  },
  {
   "cell_type": "markdown",
   "metadata": {},
   "source": [
    "## If the ranks of $G_1$ and $G_2$ are not \"the same\", how are they related?\n",
    "More specifically, do the ranks of $G_1$ point in a completely opposite direction\n",
    "as those of $G_2$? z"
   ]
  }
 ],
 "metadata": {
  "jupytext": {
   "cell_metadata_filter": "-all",
   "main_language": "python",
   "notebook_metadata_filter": "-all"
  }
 },
 "nbformat": 4,
 "nbformat_minor": 4
}
