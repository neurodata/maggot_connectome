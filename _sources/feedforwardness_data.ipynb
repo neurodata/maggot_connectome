{
 "cells": [
  {
   "cell_type": "markdown",
   "metadata": {},
   "source": [
    "# One-sample feedforwardness testing: data"
   ]
  },
  {
   "cell_type": "markdown",
   "metadata": {},
   "source": [
    "from pkg.utils import set_warnings\n",
    "\n",
    "import datetime\n",
    "import time\n",
    "\n",
    "import matplotlib.pyplot as plt\n",
    "import numpy as np\n",
    "import pandas as pd\n",
    "import seaborn as sns\n",
    "from tqdm import tqdm\n",
    "from joblib import Parallel, delayed\n",
    "\n",
    "from graspologic.models import DCEREstimator, EREstimator\n",
    "from graspologic.plot import heatmap\n",
    "from graspologic.simulations import sample_edges, sbm\n",
    "from graspologic.utils import binarize, largest_connected_component, remove_loops\n",
    "from pkg.data import load_maggot_graph\n",
    "from pkg.flow import calculate_p_upper, rank_graph_match_flow\n",
    "from pkg.io import savefig\n",
    "from pathlib import Path\n",
    "from pkg.plot import set_theme"
   ]
  },
  {
   "cell_type": "code",
   "execution_count": null,
   "metadata": {
    "tags": [
     "hide-input"
    ]
   },
   "outputs": [],
   "source": [
    "# ## Preliminaries"
   ]
  },
  {
   "cell_type": "code",
   "execution_count": null,
   "metadata": {
    "tags": [
     "hide-input"
    ]
   },
   "outputs": [],
   "source": [
    "set_warnings()\n",
    "\n",
    "np.random.seed(8888)\n",
    "\n",
    "t0 = time.time()\n",
    "\n",
    "out_path = Path(\"maggot_connectome/results/outputs/feedforwardness_data\")\n",
    "\n",
    "\n",
    "def stashfig(name, **kwargs):\n",
    "    foldername = \"feedforwardness_data\"\n",
    "    savefig(name, foldername=foldername, **kwargs)\n",
    "\n",
    "\n",
    "colors = sns.color_palette(\"Set1\")\n",
    "set_theme()"
   ]
  },
  {
   "cell_type": "markdown",
   "metadata": {},
   "source": [
    "### Load the data"
   ]
  },
  {
   "cell_type": "code",
   "execution_count": null,
   "metadata": {
    "tags": [
     "hide-input"
    ]
   },
   "outputs": [],
   "source": [
    "\n",
    "mg = load_maggot_graph()\n",
    "mg = mg[mg.nodes[\"paper_clustered_neurons\"]]\n",
    "# mg = mg[mg.nodes[\"left\"]]\n",
    "# mg = mg[mg.nodes[\"class1\"] == \"KC\"]"
   ]
  },
  {
   "cell_type": "markdown",
   "metadata": {
    "lines_to_next_cell": 0
   },
   "source": [
    "## Run a one-sample test for feedforwardness on each edge type"
   ]
  },
  {
   "cell_type": "code",
   "execution_count": null,
   "metadata": {
    "tags": [
     "hide-input"
    ]
   },
   "outputs": [],
   "source": [
    "\n",
    "from graspologic.utils import is_fully_connected\n",
    "\n",
    "\n",
    "def p_upper_tstat(A):\n",
    "    perm_inds = rank_graph_match_flow(A, n_init=1, max_iter=20)\n",
    "    p_upper = calculate_p_upper(A[np.ix_(perm_inds, perm_inds)])\n",
    "    return p_upper\n",
    "\n",
    "\n",
    "def sample_null_distribution(p_mat, tstat_func, n_samples=1000, parallel=True):\n",
    "    if parallel:\n",
    "\n",
    "        def sample_and_tstat(seed=None):\n",
    "            if seed is not None:\n",
    "                np.random.seed(seed)\n",
    "            A = sample_edges(np.array(p_mat), directed=True, loops=False)\n",
    "            if not is_fully_connected(A):\n",
    "                print(\"Original sample was not fully connected, trying again...\")\n",
    "                tries = 0\n",
    "                connected = False\n",
    "                while not connected and tries < 10:\n",
    "                    A = sample_edges(np.array(p_mat), directed=True, loops=False)\n",
    "                    connected = is_fully_connected(A)\n",
    "                    tries += 1\n",
    "                if not connected:\n",
    "                    print(\"Did not sample connected graph after 10 tries.\")\n",
    "            tstat = tstat_func(A)\n",
    "            return tstat\n",
    "\n",
    "        seeds = np.random.randint(1e8, size=n_samples)\n",
    "        null = Parallel(n_jobs=-2, verbose=10)(\n",
    "            delayed(sample_and_tstat)(seed) for seed in seeds\n",
    "        )\n",
    "    else:\n",
    "        null = []\n",
    "        for i in tqdm(range(n_samples)):\n",
    "            A = sample_edges(p_mat, directed=True, loops=False)\n",
    "            if not is_fully_connected(A):\n",
    "                print(\"Original sample was not fully connected, trying again...\")\n",
    "                tries = 0\n",
    "                connected = False\n",
    "                while not connected and tries < 10:\n",
    "                    A = sample_edges(np.array(p_mat), directed=True, loops=False)\n",
    "                    connected = is_fully_connected(A)\n",
    "                    tries += 1\n",
    "                if not connected:\n",
    "                    print(\"Did not sample connected graph after 10 tries.\")\n",
    "            tstat = tstat_func(A)\n",
    "            null.append(tstat)\n",
    "    null = np.array(null)\n",
    "    null = np.sort(null)\n",
    "    return null\n",
    "\n",
    "\n",
    "def compute_pvalues(p_upper, null):\n",
    "    row = {}\n",
    "    row[\"estimated_p_upper\"] = p_upper\n",
    "    ind = np.searchsorted(null, p_upper)\n",
    "    row[\"pvalue\"] = 1 - ind / len(\n",
    "        null\n",
    "    )  # TODO make more exact but this is roughly right for one sided\n",
    "    return row\n",
    "\n",
    "\n",
    "edge_types = [\"ad\", \"aa\", \"dd\", \"da\"]\n",
    "null_estimators = {\n",
    "    \"ER\": EREstimator(directed=True, loops=False),\n",
    "    \"DCER\": DCEREstimator(directed=True, loops=False, degree_directed=False),\n",
    "}\n",
    "\n",
    "rerun_test = False\n",
    "\n",
    "if rerun_test:\n",
    "    currtime = time.time()\n",
    "\n",
    "    n_null_samples = 100\n",
    "    statistics = []\n",
    "\n",
    "    for edge_type in edge_types:\n",
    "        print(f\"Edge type = {edge_type}\")\n",
    "        edge_type_adj = mg.to_edge_type_graph(edge_type).adj\n",
    "        edge_type_adj = binarize(edge_type_adj)\n",
    "        largest_connected_component(edge_type_adj)\n",
    "        tstat = p_upper_tstat(edge_type_adj)\n",
    "\n",
    "        observed = pd.DataFrame(index=[0])\n",
    "        observed[\"estimated_p_upper\"] = tstat\n",
    "        observed[\"edge_type\"] = edge_type\n",
    "        observed[\"null_model\"] = \"Observed\"\n",
    "        statistics.append(observed)\n",
    "\n",
    "        # estimate null distribution via bootstrap sampling\n",
    "        for null_name, NullEstimator in null_estimators.items():\n",
    "            ne = NullEstimator.fit(edge_type_adj)\n",
    "\n",
    "            def sampler():\n",
    "                return np.squeeze(ne.sample())\n",
    "\n",
    "            null = sample_null_distribution(\n",
    "                ne.p_mat_, p_upper_tstat, n_samples=n_null_samples\n",
    "            )\n",
    "\n",
    "            null_dist = pd.Series(data=null, name=\"estimated_p_upper\").to_frame()\n",
    "            null_dist[\"null_model\"] = null_name\n",
    "            null_dist[\"edge_type\"] = edge_type\n",
    "            statistics.append(null_dist)\n",
    "\n",
    "            statistics_save = pd.concat(statistics, ignore_index=True)\n",
    "            statistics_save.to_csv(out_path / \"statistics.csv\")\n",
    "            print(\"Saved progress to statistics.csv\")\n",
    "            print()\n",
    "\n",
    "    print(f\"{time.time() - currtime:.3f} seconds elapsed.\")"
   ]
  },
  {
   "cell_type": "markdown",
   "metadata": {
    "lines_to_next_cell": 0
   },
   "source": [
    "## Plot null distribution and observed test statistic for feedforward tests"
   ]
  },
  {
   "cell_type": "code",
   "execution_count": null,
   "metadata": {
    "tags": [
     "hide-input"
    ]
   },
   "outputs": [],
   "source": [
    "\n",
    "statistics = pd.read_csv(out_path / \"statistics.csv\", index_col=0)\n",
    "\n",
    "for edge_type in edge_types:\n",
    "    edge_type_stats = statistics[statistics[\"edge_type\"] == edge_type]\n",
    "    fig, ax = plt.subplots(1, 1, figsize=(8, 6))\n",
    "    sns.kdeplot(\n",
    "        data=edge_type_stats[edge_type_stats[\"null_model\"] != \"Observed\"],\n",
    "        x=\"estimated_p_upper\",\n",
    "        hue=\"null_model\",\n",
    "        ax=ax,\n",
    "        cut=0,\n",
    "        fill=True\n",
    "        # stat=\"density\",\n",
    "        # element=\"poly\",\n",
    "        # kde=True,\n",
    "        # binwidth=0.001,\n",
    "        # common_bins=True,\n",
    "    )\n",
    "    ax.get_legend().set_title(\"Null model\")\n",
    "    observed = edge_type_stats[edge_type_stats[\"null_model\"] == \"Observed\"]\n",
    "    ax.axvline(observed.iloc[0][\"estimated_p_upper\"], color=\"darkred\", linestyle=\"--\")\n",
    "    ax.set(xlabel=r\"$\\hat{p}_{upper}$\", title=edge_type.upper())\n",
    "    stashfig(f\"{edge_type}_p_upper_statistic\")"
   ]
  },
  {
   "cell_type": "markdown",
   "metadata": {
    "lines_to_next_cell": 0
   },
   "source": [
    "## End"
   ]
  },
  {
   "cell_type": "code",
   "execution_count": null,
   "metadata": {
    "tags": [
     "hide-input"
    ]
   },
   "outputs": [],
   "source": [
    "elapsed = time.time() - t0\n",
    "delta = datetime.timedelta(seconds=elapsed)\n",
    "print(\"----\")\n",
    "print(f\"Script took {delta}\")\n",
    "print(f\"Completed at {datetime.datetime.now()}\")\n",
    "print(\"----\")"
   ]
  }
 ],
 "metadata": {
  "jupytext": {
   "cell_metadata_filter": "-all",
   "main_language": "python",
   "notebook_metadata_filter": "-all"
  }
 },
 "nbformat": 4,
 "nbformat_minor": 4
}
